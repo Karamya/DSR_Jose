{
 "cells": [
  {
   "cell_type": "markdown",
   "metadata": {},
   "source": [
    "# Kernel Learning\n",
    "\n",
    "Let's start looking at a few kernels"
   ]
  },
  {
   "cell_type": "code",
   "execution_count": 1,
   "metadata": {
    "collapsed": false
   },
   "outputs": [],
   "source": [
    "%matplotlib inline"
   ]
  },
  {
   "cell_type": "code",
   "execution_count": 2,
   "metadata": {
    "collapsed": false
   },
   "outputs": [],
   "source": [
    "import numpy as np\n",
    "import pylab as pl\n",
    "import sklearn.metrics.pairwise as pw"
   ]
  },
  {
   "cell_type": "code",
   "execution_count": 3,
   "metadata": {
    "collapsed": false
   },
   "outputs": [
    {
     "name": "stdout",
     "output_type": "stream",
     "text": [
      "Help on function polynomial_kernel in module sklearn.metrics.pairwise:\n",
      "\n",
      "polynomial_kernel(X, Y=None, degree=3, gamma=None, coef0=1)\n",
      "    Compute the polynomial kernel between X and Y::\n",
      "    \n",
      "        K(X, Y) = (gamma <X, Y> + coef0)^degree\n",
      "    \n",
      "    Read more in the :ref:`User Guide <polynomial_kernel>`.\n",
      "    \n",
      "    Parameters\n",
      "    ----------\n",
      "    X : ndarray of shape (n_samples_1, n_features)\n",
      "    \n",
      "    Y : ndarray of shape (n_samples_2, n_features)\n",
      "    \n",
      "    coef0 : int, default 1\n",
      "    \n",
      "    degree : int, default 3\n",
      "    \n",
      "    Returns\n",
      "    -------\n",
      "    Gram matrix : array of shape (n_samples_1, n_samples_2)\n",
      "\n"
     ]
    }
   ],
   "source": [
    "help(pw.polynomial_kernel)"
   ]
  },
  {
   "cell_type": "markdown",
   "metadata": {},
   "source": [
    "Let's generate some data and have some look at kernel functions"
   ]
  },
  {
   "cell_type": "markdown",
   "metadata": {},
   "source": []
  },
  {
   "cell_type": "code",
   "execution_count": 4,
   "metadata": {
    "collapsed": false
   },
   "outputs": [],
   "source": [
    "# create 100 rows of lists with one element per list\n",
    "x = pl.linspace(-3, 3, 100).reshape(100,1)"
   ]
  },
  {
   "cell_type": "code",
   "execution_count": 5,
   "metadata": {
    "collapsed": false
   },
   "outputs": [],
   "source": [
    "def colvec(a):\n",
    "    return np.array(a).reshape(len(a), 1)"
   ]
  },
  {
   "cell_type": "code",
   "execution_count": 6,
   "metadata": {
    "collapsed": false
   },
   "outputs": [
    {
     "data": {
      "text/plain": [
       "[<matplotlib.lines.Line2D at 0x7fe0d770c6d8>,\n",
       " <matplotlib.lines.Line2D at 0x7fe0d770c940>,\n",
       " <matplotlib.lines.Line2D at 0x7fe0d770cb38>]"
      ]
     },
     "execution_count": 6,
     "metadata": {},
     "output_type": "execute_result"
    },
    {
     "data": {
      "image/png": "[encoded data removed]",
      "text/plain": [
       "<matplotlib.figure.Figure at 0x7fe0da2b1f60>"
      ]
     },
     "metadata": {},
     "output_type": "display_data"
    }
   ],
   "source": [
    "pl.plot(x, pw.polynomial_kernel(x, colvec([-2, 0, 2]), coef0=1, degree=3))"
   ]
  },
  {
   "cell_type": "code",
   "execution_count": 7,
   "metadata": {
    "collapsed": false
   },
   "outputs": [
    {
     "name": "stdout",
     "output_type": "stream",
     "text": [
      "Help on function linear_kernel in module sklearn.metrics.pairwise:\n",
      "\n",
      "linear_kernel(X, Y=None)\n",
      "    Compute the linear kernel between X and Y.\n",
      "    \n",
      "    Read more in the :ref:`User Guide <linear_kernel>`.\n",
      "    \n",
      "    Parameters\n",
      "    ----------\n",
      "    X : array of shape (n_samples_1, n_features)\n",
      "    \n",
      "    Y : array of shape (n_samples_2, n_features)\n",
      "    \n",
      "    Returns\n",
      "    -------\n",
      "    Gram matrix : array of shape (n_samples_1, n_samples_2)\n",
      "\n"
     ]
    }
   ],
   "source": [
    "help(pw.linear_kernel)"
   ]
  },
  {
   "cell_type": "code",
   "execution_count": 8,
   "metadata": {
    "collapsed": false
   },
   "outputs": [
    {
     "data": {
      "text/plain": [
       "[<matplotlib.lines.Line2D at 0x7fe0d71b72e8>,\n",
       " <matplotlib.lines.Line2D at 0x7fe0d71b7550>,\n",
       " <matplotlib.lines.Line2D at 0x7fe0d71b7748>]"
      ]
     },
     "execution_count": 8,
     "metadata": {},
     "output_type": "execute_result"
    },
    {
     "data": {
      "image/png": "[encoded data removed]",
      "text/plain": [
       "<matplotlib.figure.Figure at 0x7fe0da2b1ba8>"
      ]
     },
     "metadata": {},
     "output_type": "display_data"
    }
   ],
   "source": [
    "pl.plot(x, pw.linear_kernel(x, colvec([-2, 0, 2])))"
   ]
  },
  {
   "cell_type": "code",
   "execution_count": 9,
   "metadata": {
    "collapsed": false
   },
   "outputs": [
    {
     "data": {
      "text/plain": [
       "[<matplotlib.lines.Line2D at 0x7fe0d71a5da0>,\n",
       " <matplotlib.lines.Line2D at 0x7fe0d71a5f28>,\n",
       " <matplotlib.lines.Line2D at 0x7fe0d71aa240>]"
      ]
     },
     "execution_count": 9,
     "metadata": {},
     "output_type": "execute_result"
    },
    {
     "data": {
      "image/png": "[encoded data removed]",
      "text/plain": [
       "<matplotlib.figure.Figure at 0x7fe0d720a630>"
      ]
     },
     "metadata": {},
     "output_type": "display_data"
    }
   ],
   "source": [
    "pl.plot(x, pw.rbf_kernel(x, colvec([-2, 0, 2]), gamma=50))"
   ]
  },
  {
   "cell_type": "markdown",
   "metadata": {},
   "source": [
    "# some 1d classification problem"
   ]
  },
  {
   "cell_type": "code",
   "execution_count": 10,
   "metadata": {
    "collapsed": false
   },
   "outputs": [],
   "source": [
    "# np.r_ translates slice objects to concatenation along the first axis\n",
    "# pl.randn returns a sample from the standard normal distribution \n",
    "x = np.r_[pl.randn(50, 1) + 3, pl.randn(50, 1) - 3]\n",
    "y = np.r_[pl.ones(50), -pl.ones(50)]\n",
    "xp = colvec(np.linspace(-8, 8, 1000))"
   ]
  },
  {
   "cell_type": "code",
   "execution_count": 11,
   "metadata": {
    "collapsed": false
   },
   "outputs": [
    {
     "data": {
      "text/plain": [
       "<matplotlib.text.Text at 0x7fe0d716c7f0>"
      ]
     },
     "execution_count": 11,
     "metadata": {},
     "output_type": "execute_result"
    },
    {
     "data": {
      "image/png": "[encoded data removed]",
      "text/plain": [
       "<matplotlib.figure.Figure at 0x7fe0d71dd0f0>"
      ]
     },
     "metadata": {},
     "output_type": "display_data"
    }
   ],
   "source": [
    "pl.plot(x, colvec(y), 'o'); pl.title(\"The data!\")"
   ]
  },
  {
   "cell_type": "code",
   "execution_count": 12,
   "metadata": {
    "collapsed": false
   },
   "outputs": [],
   "source": [
    "from sklearn import svm"
   ]
  },
  {
   "cell_type": "code",
   "execution_count": 13,
   "metadata": {
    "collapsed": false
   },
   "outputs": [
    {
     "data": {
      "text/plain": [
       "SVC(C=1, cache_size=200, class_weight=None, coef0=0.0,\n",
       "  decision_function_shape=None, degree=3, gamma='auto', kernel='linear',\n",
       "  max_iter=-1, probability=False, random_state=None, shrinking=True,\n",
       "  tol=0.001, verbose=False)"
      ]
     },
     "execution_count": 13,
     "metadata": {},
     "output_type": "execute_result"
    }
   ],
   "source": [
    "cl = svm.SVC(kernel='linear', C=1)\n",
    "cl.fit(x,y)"
   ]
  },
  {
   "cell_type": "code",
   "execution_count": 14,
   "metadata": {
    "collapsed": false
   },
   "outputs": [
    {
     "name": "stdout",
     "output_type": "stream",
     "text": [
      "Help on class SVC in module sklearn.svm.classes:\n",
      "\n",
      "class SVC(sklearn.svm.base.BaseSVC)\n",
      " |  C-Support Vector Classification.\n",
      " |  \n",
      " |  The implementation is based on libsvm. The fit time complexity\n",
      " |  is more than quadratic with the number of samples which makes it hard\n",
      " |  to scale to dataset with more than a couple of 10000 samples.\n",
      " |  \n",
      " |  The multiclass support is handled according to a one-vs-one scheme.\n",
      " |  \n",
      " |  For details on the precise mathematical formulation of the provided\n",
      " |  kernel functions and how `gamma`, `coef0` and `degree` affect each\n",
      " |  other, see the corresponding section in the narrative documentation:\n",
      " |  :ref:`svm_kernels`.\n",
      " |  \n",
      " |  Read more in the :ref:`User Guide <svm_classification>`.\n",
      " |  \n",
      " |  Parameters\n",
      " |  ----------\n",
      " |  C : float, optional (default=1.0)\n",
      " |      Penalty parameter C of the error term.\n",
      " |  \n",
      " |  kernel : string, optional (default='rbf')\n",
      " |       Specifies the kernel type to be used in the algorithm.\n",
      " |       It must be one of 'linear', 'poly', 'rbf', 'sigmoid', 'precomputed' or\n",
      " |       a callable.\n",
      " |       If none is given, 'rbf' will be used. If a callable is given it is\n",
      " |       used to pre-compute the kernel matrix from data matrices; that matrix\n",
      " |       should be an array of shape ``(n_samples, n_samples)``.\n",
      " |  \n",
      " |  degree : int, optional (default=3)\n",
      " |      Degree of the polynomial kernel function ('poly').\n",
      " |      Ignored by all other kernels.\n",
      " |  \n",
      " |  gamma : float, optional (default='auto')\n",
      " |      Kernel coefficient for 'rbf', 'poly' and 'sigmoid'.\n",
      " |      If gamma is 'auto' then 1/n_features will be used instead.\n",
      " |  \n",
      " |  coef0 : float, optional (default=0.0)\n",
      " |      Independent term in kernel function.\n",
      " |      It is only significant in 'poly' and 'sigmoid'.\n",
      " |  \n",
      " |  probability : boolean, optional (default=False)\n",
      " |      Whether to enable probability estimates. This must be enabled prior\n",
      " |      to calling `fit`, and will slow down that method.\n",
      " |  \n",
      " |  shrinking : boolean, optional (default=True)\n",
      " |      Whether to use the shrinking heuristic.\n",
      " |  \n",
      " |  tol : float, optional (default=1e-3)\n",
      " |      Tolerance for stopping criterion.\n",
      " |  \n",
      " |  cache_size : float, optional\n",
      " |      Specify the size of the kernel cache (in MB).\n",
      " |  \n",
      " |  class_weight : {dict, 'balanced'}, optional\n",
      " |      Set the parameter C of class i to class_weight[i]*C for\n",
      " |      SVC. If not given, all classes are supposed to have\n",
      " |      weight one.\n",
      " |      The \"balanced\" mode uses the values of y to automatically adjust\n",
      " |      weights inversely proportional to class frequencies in the input data\n",
      " |      as ``n_samples / (n_classes * np.bincount(y))``\n",
      " |  \n",
      " |  verbose : bool, default: False\n",
      " |      Enable verbose output. Note that this setting takes advantage of a\n",
      " |      per-process runtime setting in libsvm that, if enabled, may not work\n",
      " |      properly in a multithreaded context.\n",
      " |  \n",
      " |  max_iter : int, optional (default=-1)\n",
      " |      Hard limit on iterations within solver, or -1 for no limit.\n",
      " |  \n",
      " |  decision_function_shape : 'ovo', 'ovr' or None, default=None\n",
      " |      Whether to return a one-vs-rest ('ovr') ecision function of shape\n",
      " |      (n_samples, n_classes) as all other classifiers, or the original\n",
      " |      one-vs-one ('ovo') decision function of libsvm which has shape\n",
      " |      (n_samples, n_classes * (n_classes - 1) / 2).\n",
      " |      The default of None will currently behave as 'ovo' for backward\n",
      " |      compatibility and raise a deprecation warning, but will change 'ovr'\n",
      " |      in 0.18.\n",
      " |  \n",
      " |      .. versionadded:: 0.17\n",
      " |         *decision_function_shape='ovr'* is recommended.\n",
      " |  \n",
      " |      .. versionchanged:: 0.17\n",
      " |         Deprecated *decision_function_shape='ovo' and None*.\n",
      " |  \n",
      " |  random_state : int seed, RandomState instance, or None (default)\n",
      " |      The seed of the pseudo random number generator to use when\n",
      " |      shuffling the data for probability estimation.\n",
      " |  \n",
      " |  Attributes\n",
      " |  ----------\n",
      " |  support_ : array-like, shape = [n_SV]\n",
      " |      Indices of support vectors.\n",
      " |  \n",
      " |  support_vectors_ : array-like, shape = [n_SV, n_features]\n",
      " |      Support vectors.\n",
      " |  \n",
      " |  n_support_ : array-like, dtype=int32, shape = [n_class]\n",
      " |      Number of support vectors for each class.\n",
      " |  \n",
      " |  dual_coef_ : array, shape = [n_class-1, n_SV]\n",
      " |      Coefficients of the support vector in the decision function.\n",
      " |      For multiclass, coefficient for all 1-vs-1 classifiers.\n",
      " |      The layout of the coefficients in the multiclass case is somewhat\n",
      " |      non-trivial. See the section about multi-class classification in the\n",
      " |      SVM section of the User Guide for details.\n",
      " |  \n",
      " |  coef_ : array, shape = [n_class-1, n_features]\n",
      " |      Weights assigned to the features (coefficients in the primal\n",
      " |      problem). This is only available in the case of a linear kernel.\n",
      " |  \n",
      " |      `coef_` is a readonly property derived from `dual_coef_` and\n",
      " |      `support_vectors_`.\n",
      " |  \n",
      " |  intercept_ : array, shape = [n_class * (n_class-1) / 2]\n",
      " |      Constants in decision function.\n",
      " |  \n",
      " |  Examples\n",
      " |  --------\n",
      " |  >>> import numpy as np\n",
      " |  >>> X = np.array([[-1, -1], [-2, -1], [1, 1], [2, 1]])\n",
      " |  >>> y = np.array([1, 1, 2, 2])\n",
      " |  >>> from sklearn.svm import SVC\n",
      " |  >>> clf = SVC()\n",
      " |  >>> clf.fit(X, y) #doctest: +NORMALIZE_WHITESPACE\n",
      " |  SVC(C=1.0, cache_size=200, class_weight=None, coef0=0.0,\n",
      " |      decision_function_shape=None, degree=3, gamma='auto', kernel='rbf',\n",
      " |      max_iter=-1, probability=False, random_state=None, shrinking=True,\n",
      " |      tol=0.001, verbose=False)\n",
      " |  >>> print(clf.predict([[-0.8, -1]]))\n",
      " |  [1]\n",
      " |  \n",
      " |  See also\n",
      " |  --------\n",
      " |  SVR\n",
      " |      Support Vector Machine for Regression implemented using libsvm.\n",
      " |  \n",
      " |  LinearSVC\n",
      " |      Scalable Linear Support Vector Machine for classification\n",
      " |      implemented using liblinear. Check the See also section of\n",
      " |      LinearSVC for more comparison element.\n",
      " |  \n",
      " |  Method resolution order:\n",
      " |      SVC\n",
      " |      sklearn.svm.base.BaseSVC\n",
      " |      abc.NewBase\n",
      " |      sklearn.svm.base.BaseLibSVM\n",
      " |      abc.NewBase\n",
      " |      sklearn.base.BaseEstimator\n",
      " |      sklearn.base.ClassifierMixin\n",
      " |      builtins.object\n",
      " |  \n",
      " |  Methods defined here:\n",
      " |  \n",
      " |  __init__(self, C=1.0, kernel='rbf', degree=3, gamma='auto', coef0=0.0, shrinking=True, probability=False, tol=0.001, cache_size=200, class_weight=None, verbose=False, max_iter=-1, decision_function_shape=None, random_state=None)\n",
      " |      Initialize self.  See help(type(self)) for accurate signature.\n",
      " |  \n",
      " |  ----------------------------------------------------------------------\n",
      " |  Data and other attributes defined here:\n",
      " |  \n",
      " |  __abstractmethods__ = frozenset()\n",
      " |  \n",
      " |  ----------------------------------------------------------------------\n",
      " |  Methods inherited from sklearn.svm.base.BaseSVC:\n",
      " |  \n",
      " |  decision_function(self, X)\n",
      " |      Distance of the samples X to the separating hyperplane.\n",
      " |      \n",
      " |      Parameters\n",
      " |      ----------\n",
      " |      X : array-like, shape (n_samples, n_features)\n",
      " |      \n",
      " |      Returns\n",
      " |      -------\n",
      " |      X : array-like, shape (n_samples, n_classes * (n_classes-1) / 2)\n",
      " |          Returns the decision function of the sample for each class\n",
      " |          in the model.\n",
      " |          If decision_function_shape='ovr', the shape is (n_samples,\n",
      " |          n_classes)\n",
      " |  \n",
      " |  predict(self, X)\n",
      " |      Perform classification on samples in X.\n",
      " |      \n",
      " |      For an one-class model, +1 or -1 is returned.\n",
      " |      \n",
      " |      Parameters\n",
      " |      ----------\n",
      " |      X : {array-like, sparse matrix}, shape (n_samples, n_features)\n",
      " |          For kernel=\"precomputed\", the expected shape of X is\n",
      " |          [n_samples_test, n_samples_train]\n",
      " |      \n",
      " |      Returns\n",
      " |      -------\n",
      " |      y_pred : array, shape (n_samples,)\n",
      " |          Class labels for samples in X.\n",
      " |  \n",
      " |  ----------------------------------------------------------------------\n",
      " |  Data descriptors inherited from sklearn.svm.base.BaseSVC:\n",
      " |  \n",
      " |  predict_log_proba\n",
      " |      Compute log probabilities of possible outcomes for samples in X.\n",
      " |      \n",
      " |      The model need to have probability information computed at training\n",
      " |      time: fit with attribute `probability` set to True.\n",
      " |      \n",
      " |      Parameters\n",
      " |      ----------\n",
      " |      X : array-like, shape (n_samples, n_features)\n",
      " |          For kernel=\"precomputed\", the expected shape of X is\n",
      " |          [n_samples_test, n_samples_train]\n",
      " |      \n",
      " |      Returns\n",
      " |      -------\n",
      " |      T : array-like, shape (n_samples, n_classes)\n",
      " |          Returns the log-probabilities of the sample for each class in\n",
      " |          the model. The columns correspond to the classes in sorted\n",
      " |          order, as they appear in the attribute `classes_`.\n",
      " |      \n",
      " |      Notes\n",
      " |      -----\n",
      " |      The probability model is created using cross validation, so\n",
      " |      the results can be slightly different than those obtained by\n",
      " |      predict. Also, it will produce meaningless results on very small\n",
      " |      datasets.\n",
      " |  \n",
      " |  predict_proba\n",
      " |      Compute probabilities of possible outcomes for samples in X.\n",
      " |      \n",
      " |      The model need to have probability information computed at training\n",
      " |      time: fit with attribute `probability` set to True.\n",
      " |      \n",
      " |      Parameters\n",
      " |      ----------\n",
      " |      X : array-like, shape (n_samples, n_features)\n",
      " |          For kernel=\"precomputed\", the expected shape of X is\n",
      " |          [n_samples_test, n_samples_train]\n",
      " |      \n",
      " |      Returns\n",
      " |      -------\n",
      " |      T : array-like, shape (n_samples, n_classes)\n",
      " |          Returns the probability of the sample for each class in\n",
      " |          the model. The columns correspond to the classes in sorted\n",
      " |          order, as they appear in the attribute `classes_`.\n",
      " |      \n",
      " |      Notes\n",
      " |      -----\n",
      " |      The probability model is created using cross validation, so\n",
      " |      the results can be slightly different than those obtained by\n",
      " |      predict. Also, it will produce meaningless results on very small\n",
      " |      datasets.\n",
      " |  \n",
      " |  ----------------------------------------------------------------------\n",
      " |  Methods inherited from sklearn.svm.base.BaseLibSVM:\n",
      " |  \n",
      " |  fit(self, X, y, sample_weight=None)\n",
      " |      Fit the SVM model according to the given training data.\n",
      " |      \n",
      " |      Parameters\n",
      " |      ----------\n",
      " |      X : {array-like, sparse matrix}, shape (n_samples, n_features)\n",
      " |          Training vectors, where n_samples is the number of samples\n",
      " |          and n_features is the number of features.\n",
      " |          For kernel=\"precomputed\", the expected shape of X is\n",
      " |          (n_samples, n_samples).\n",
      " |      \n",
      " |      y : array-like, shape (n_samples,)\n",
      " |          Target values (class labels in classification, real numbers in\n",
      " |          regression)\n",
      " |      \n",
      " |      sample_weight : array-like, shape (n_samples,)\n",
      " |          Per-sample weights. Rescale C per sample. Higher weights\n",
      " |          force the classifier to put more emphasis on these points.\n",
      " |      \n",
      " |      Returns\n",
      " |      -------\n",
      " |      self : object\n",
      " |          Returns self.\n",
      " |      \n",
      " |      Notes\n",
      " |      ------\n",
      " |      If X and y are not C-ordered and contiguous arrays of np.float64 and\n",
      " |      X is not a scipy.sparse.csr_matrix, X and/or y may be copied.\n",
      " |      \n",
      " |      If X is a dense array, then the other methods will not support sparse\n",
      " |      matrices as input.\n",
      " |  \n",
      " |  ----------------------------------------------------------------------\n",
      " |  Data descriptors inherited from sklearn.svm.base.BaseLibSVM:\n",
      " |  \n",
      " |  coef_\n",
      " |  \n",
      " |  ----------------------------------------------------------------------\n",
      " |  Methods inherited from sklearn.base.BaseEstimator:\n",
      " |  \n",
      " |  __repr__(self)\n",
      " |      Return repr(self).\n",
      " |  \n",
      " |  get_params(self, deep=True)\n",
      " |      Get parameters for this estimator.\n",
      " |      \n",
      " |      Parameters\n",
      " |      ----------\n",
      " |      deep: boolean, optional\n",
      " |          If True, will return the parameters for this estimator and\n",
      " |          contained subobjects that are estimators.\n",
      " |      \n",
      " |      Returns\n",
      " |      -------\n",
      " |      params : mapping of string to any\n",
      " |          Parameter names mapped to their values.\n",
      " |  \n",
      " |  set_params(self, **params)\n",
      " |      Set the parameters of this estimator.\n",
      " |      \n",
      " |      The method works on simple estimators as well as on nested objects\n",
      " |      (such as pipelines). The former have parameters of the form\n",
      " |      ``<component>__<parameter>`` so that it's possible to update each\n",
      " |      component of a nested object.\n",
      " |      \n",
      " |      Returns\n",
      " |      -------\n",
      " |      self\n",
      " |  \n",
      " |  ----------------------------------------------------------------------\n",
      " |  Data descriptors inherited from sklearn.base.BaseEstimator:\n",
      " |  \n",
      " |  __dict__\n",
      " |      dictionary for instance variables (if defined)\n",
      " |  \n",
      " |  __weakref__\n",
      " |      list of weak references to the object (if defined)\n",
      " |  \n",
      " |  ----------------------------------------------------------------------\n",
      " |  Methods inherited from sklearn.base.ClassifierMixin:\n",
      " |  \n",
      " |  score(self, X, y, sample_weight=None)\n",
      " |      Returns the mean accuracy on the given test data and labels.\n",
      " |      \n",
      " |      In multi-label classification, this is the subset accuracy\n",
      " |      which is a harsh metric since you require for each sample that\n",
      " |      each label set be correctly predicted.\n",
      " |      \n",
      " |      Parameters\n",
      " |      ----------\n",
      " |      X : array-like, shape = (n_samples, n_features)\n",
      " |          Test samples.\n",
      " |      \n",
      " |      y : array-like, shape = (n_samples) or (n_samples, n_outputs)\n",
      " |          True labels for X.\n",
      " |      \n",
      " |      sample_weight : array-like, shape = [n_samples], optional\n",
      " |          Sample weights.\n",
      " |      \n",
      " |      Returns\n",
      " |      -------\n",
      " |      score : float\n",
      " |          Mean accuracy of self.predict(X) wrt. y.\n",
      "\n"
     ]
    }
   ],
   "source": [
    "help(svm.SVC)"
   ]
  },
  {
   "cell_type": "code",
   "execution_count": 15,
   "metadata": {
    "collapsed": false
   },
   "outputs": [
    {
     "name": "stdout",
     "output_type": "stream",
     "text": [
      "Help on function decision_function in module sklearn.svm.base:\n",
      "\n",
      "decision_function(self, X)\n",
      "    Distance of the samples X to the separating hyperplane.\n",
      "    \n",
      "    Parameters\n",
      "    ----------\n",
      "    X : array-like, shape (n_samples, n_features)\n",
      "    \n",
      "    Returns\n",
      "    -------\n",
      "    X : array-like, shape (n_samples, n_classes * (n_classes-1) / 2)\n",
      "        Returns the decision function of the sample for each class\n",
      "        in the model.\n",
      "        If decision_function_shape='ovr', the shape is (n_samples,\n",
      "        n_classes)\n",
      "\n"
     ]
    }
   ],
   "source": [
    "help(svm.SVC.decision_function)"
   ]
  },
  {
   "cell_type": "code",
   "execution_count": 16,
   "metadata": {
    "collapsed": false
   },
   "outputs": [
    {
     "data": {
      "text/plain": [
       "[<matplotlib.lines.Line2D at 0x7fe0d5151cf8>]"
      ]
     },
     "execution_count": 16,
     "metadata": {},
     "output_type": "execute_result"
    },
    {
     "data": {
      "image/png": "[encoded data removed]",
      "text/plain": [
       "<matplotlib.figure.Figure at 0x7fe0d5151d68>"
      ]
     },
     "metadata": {},
     "output_type": "display_data"
    }
   ],
   "source": [
    "pl.plot(x, colvec(y), 'o'); pl.plot(xp, cl.decision_function(xp), '-')"
   ]
  },
  {
   "cell_type": "markdown",
   "metadata": {},
   "source": [
    "Try different settings for C to see how regularization affects the location of the hyperplane. Note how for large C, the boundary is really exactly at the value of 1, the margin!\n",
    "\n",
    "__C is the cost function or penalty parameter of the error term__"
   ]
  },
  {
   "cell_type": "code",
   "execution_count": 17,
   "metadata": {
    "collapsed": false
   },
   "outputs": [
    {
     "data": {
      "text/plain": [
       "[<matplotlib.lines.Line2D at 0x7fe0d50de278>]"
      ]
     },
     "execution_count": 17,
     "metadata": {},
     "output_type": "execute_result"
    },
    {
     "data": {
      "image/png": "[encoded data removed]",
      "text/plain": [
       "<matplotlib.figure.Figure at 0x7fe0d50de080>"
      ]
     },
     "metadata": {},
     "output_type": "display_data"
    }
   ],
   "source": [
    "cl = svm.SVC(kernel='linear', C=2)\n",
    "cl.fit(x,y)\n",
    "pl.plot(x, colvec(y), 'o'); pl.plot(xp, cl.decision_function(xp), '-')\n"
   ]
  },
  {
   "cell_type": "code",
   "execution_count": 18,
   "metadata": {
    "collapsed": false
   },
   "outputs": [
    {
     "data": {
      "text/plain": [
       "[<matplotlib.lines.Line2D at 0x7fe0d7156668>]"
      ]
     },
     "execution_count": 18,
     "metadata": {},
     "output_type": "execute_result"
    },
    {
     "data": {
      "image/png": "[encoded data removed]",
      "text/plain": [
       "<matplotlib.figure.Figure at 0x7fe0d50cc128>"
      ]
     },
     "metadata": {},
     "output_type": "display_data"
    }
   ],
   "source": [
    "cl = svm.SVC(kernel='linear', C=0.1)\n",
    "cl.fit(x,y)\n",
    "pl.plot(x, colvec(y), 'o'); pl.plot(xp, cl.decision_function(xp), '-')"
   ]
  },
  {
   "cell_type": "code",
   "execution_count": 19,
   "metadata": {
    "collapsed": false
   },
   "outputs": [
    {
     "data": {
      "text/plain": [
       "[<matplotlib.lines.Line2D at 0x7fe0d76d14e0>]"
      ]
     },
     "execution_count": 19,
     "metadata": {},
     "output_type": "execute_result"
    },
    {
     "data": {
      "image/png": "[encoded data removed]",
      "text/plain": [
       "<matplotlib.figure.Figure at 0x7fe0d50cc2b0>"
      ]
     },
     "metadata": {},
     "output_type": "display_data"
    }
   ],
   "source": [
    "cl = svm.SVC(kernel='linear', C=0.5)\n",
    "cl.fit(x,y)\n",
    "pl.plot(x, colvec(y), 'o'); pl.plot(xp, cl.decision_function(xp), '-')"
   ]
  },
  {
   "cell_type": "code",
   "execution_count": null,
   "metadata": {
    "collapsed": true
   },
   "outputs": [],
   "source": []
  },
  {
   "cell_type": "raw",
   "metadata": {},
   "source": [
    "cl = svm.SVC(kernel='linear', C=1.5)\n",
    "cl.fit(x,y)\n",
    "pl.plot(x, colvec(y), 'o'); pl.plot(xp, cl.decision_function(xp), '-')"
   ]
  },
  {
   "cell_type": "markdown",
   "metadata": {},
   "source": [
    "__The number of support vectors get reduced on increasing C, but only upto a certain point and the decision function(distance of samples to the hyperplane) decreases__"
   ]
  },
  {
   "cell_type": "markdown",
   "metadata": {},
   "source": [
    "## rbf kernel"
   ]
  },
  {
   "cell_type": "code",
   "execution_count": 20,
   "metadata": {
    "collapsed": false
   },
   "outputs": [
    {
     "data": {
      "text/plain": [
       "SVC(C=1, cache_size=200, class_weight=None, coef0=0.0,\n",
       "  decision_function_shape=None, degree=3, gamma=10, kernel='rbf',\n",
       "  max_iter=-1, probability=False, random_state=None, shrinking=True,\n",
       "  tol=0.001, verbose=False)"
      ]
     },
     "execution_count": 20,
     "metadata": {},
     "output_type": "execute_result"
    }
   ],
   "source": [
    "cl = svm.SVC(kernel='rbf', C=1, gamma=10)\n",
    "cl.fit(x,y)"
   ]
  },
  {
   "cell_type": "code",
   "execution_count": 21,
   "metadata": {
    "collapsed": false
   },
   "outputs": [
    {
     "data": {
      "text/plain": [
       "[<matplotlib.lines.Line2D at 0x7fe0d4f6b550>]"
      ]
     },
     "execution_count": 21,
     "metadata": {},
     "output_type": "execute_result"
    },
    {
     "data": {
      "image/png": "[encoded data removed]",
      "text/plain": [
       "<matplotlib.figure.Figure at 0x7fe0d4faba58>"
      ]
     },
     "metadata": {},
     "output_type": "display_data"
    }
   ],
   "source": [
    "pl.plot(x, colvec(y), 'o')\n",
    "pl.plot(xp, cl.decision_function(xp), '-')\n",
    "pl.plot(xp, cl.predict(xp), 'r-')"
   ]
  },
  {
   "cell_type": "markdown",
   "metadata": {},
   "source": [
    "Again, try different value for C and rbf to try out different kernel widths"
   ]
  },
  {
   "cell_type": "code",
   "execution_count": 22,
   "metadata": {
    "collapsed": false
   },
   "outputs": [
    {
     "data": {
      "text/plain": [
       "[<matplotlib.lines.Line2D at 0x7fe0d4edb438>]"
      ]
     },
     "execution_count": 22,
     "metadata": {},
     "output_type": "execute_result"
    },
    {
     "data": {
      "image/png": "[encoded data removed]",
      "text/plain": [
       "<matplotlib.figure.Figure at 0x7fe0d4efd940>"
      ]
     },
     "metadata": {},
     "output_type": "display_data"
    }
   ],
   "source": [
    "cl = svm.SVC(kernel='rbf', C=0.1, gamma=10)\n",
    "cl.fit(x,y)\n",
    "pl.plot(x, colvec(y), 'o')\n",
    "pl.plot(xp, cl.decision_function(xp), '-')\n",
    "pl.plot(xp, cl.predict(xp), 'r-')"
   ]
  },
  {
   "cell_type": "code",
   "execution_count": 23,
   "metadata": {
    "collapsed": false
   },
   "outputs": [
    {
     "data": {
      "text/plain": [
       "[<matplotlib.lines.Line2D at 0x7fe0d4e4c048>]"
      ]
     },
     "execution_count": 23,
     "metadata": {},
     "output_type": "execute_result"
    },
    {
     "data": {
      "image/png": "[encoded data removed]",
      "text/plain": [
       "<matplotlib.figure.Figure at 0x7fe0d71804e0>"
      ]
     },
     "metadata": {},
     "output_type": "display_data"
    }
   ],
   "source": [
    "cl = svm.SVC(kernel='rbf', C=2, gamma=10)\n",
    "cl.fit(x,y)\n",
    "pl.plot(x, colvec(y), 'o')\n",
    "pl.plot(xp, cl.decision_function(xp), '-')\n",
    "pl.plot(xp, cl.predict(xp), 'r-')"
   ]
  },
  {
   "cell_type": "code",
   "execution_count": 24,
   "metadata": {
    "collapsed": false
   },
   "outputs": [
    {
     "data": {
      "text/plain": [
       "[<matplotlib.lines.Line2D at 0x7fe0d4db69e8>]"
      ]
     },
     "execution_count": 24,
     "metadata": {},
     "output_type": "execute_result"
    },
    {
     "data": {
      "image/png": "[encoded data removed]",
      "text/plain": [
       "<matplotlib.figure.Figure at 0x7fe0d4eeee48>"
      ]
     },
     "metadata": {},
     "output_type": "display_data"
    }
   ],
   "source": [
    "cl = svm.SVC(kernel='rbf', C=0.5, gamma=10)\n",
    "cl.fit(x,y)\n",
    "pl.plot(x, colvec(y), 'o')\n",
    "pl.plot(xp, cl.decision_function(xp), '-')\n",
    "pl.plot(xp, cl.predict(xp), 'r-')"
   ]
  },
  {
   "cell_type": "code",
   "execution_count": 25,
   "metadata": {
    "collapsed": false
   },
   "outputs": [
    {
     "data": {
      "text/plain": [
       "[<matplotlib.lines.Line2D at 0x7fe0d4da64a8>]"
      ]
     },
     "execution_count": 25,
     "metadata": {},
     "output_type": "execute_result"
    },
    {
     "data": {
      "image/png": "[encoded data removed]",
      "text/plain": [
       "<matplotlib.figure.Figure at 0x7fe0d4dcc748>"
      ]
     },
     "metadata": {},
     "output_type": "display_data"
    }
   ],
   "source": [
    "cl = svm.SVC(kernel='rbf', C=10, gamma=10)\n",
    "cl.fit(x,y)\n",
    "pl.plot(x, colvec(y), 'o')\n",
    "pl.plot(xp, cl.decision_function(xp), '-')\n",
    "pl.plot(xp, cl.predict(xp), 'r-')"
   ]
  },
  {
   "cell_type": "markdown",
   "metadata": {},
   "source": [
    "__The number of support vectors get reduced on increasing C, but only upto a certain point and the decision function (distance of samples to the hyperplane) decreases__"
   ]
  },
  {
   "cell_type": "markdown",
   "metadata": {},
   "source": [
    "## MINST data set"
   ]
  },
  {
   "cell_type": "code",
   "execution_count": 26,
   "metadata": {
    "collapsed": false
   },
   "outputs": [
    {
     "name": "stdout",
     "output_type": "stream",
     "text": [
      "(1797, 8, 8)\n"
     ]
    }
   ],
   "source": [
    "from sklearn.datasets import load_digits\n",
    "digits = load_digits()\n",
    "print(digits.images.shape)"
   ]
  },
  {
   "cell_type": "code",
   "execution_count": 27,
   "metadata": {
    "collapsed": false
   },
   "outputs": [
    {
     "data": {
      "text/plain": [
       "(-0.5, 7.5, 7.5, -0.5)"
      ]
     },
     "execution_count": 27,
     "metadata": {},
     "output_type": "execute_result"
    },
    {
     "data": {
      "text/plain": [
       "<matplotlib.figure.Figure at 0x7fe0d3f58a20>"
      ]
     },
     "metadata": {},
     "output_type": "display_data"
    },
    {
     "data": {
      "image/png": "[encoded data removed]",
      "text/plain": [
       "<matplotlib.figure.Figure at 0x7fe0d41d9240>"
      ]
     },
     "metadata": {},
     "output_type": "display_data"
    }
   ],
   "source": [
    "pl.gray()\n",
    "i = 3\n",
    "pl.matshow(digits.images[i])\n",
    "digits.target[i]\n",
    "pl.title(digits.target[i])\n",
    "pl.axis('off')"
   ]
  },
  {
   "cell_type": "code",
   "execution_count": 28,
   "metadata": {
    "collapsed": false,
    "scrolled": true
   },
   "outputs": [
    {
     "data": {
      "image/png": "[encoded data removed]",
      "text/plain": [
       "<matplotlib.figure.Figure at 0x7fe0d40bed30>"
      ]
     },
     "metadata": {},
     "output_type": "display_data"
    }
   ],
   "source": [
    "for i in range(1, 20):\n",
    "    pl.subplot(4, 5, i)\n",
    "    pl.imshow(digits.images[i], interpolation='none')\n",
    "    pl.title(digits.target[i])\n",
    "    pl.axis('off')"
   ]
  },
  {
   "cell_type": "code",
   "execution_count": 29,
   "metadata": {
    "collapsed": false
   },
   "outputs": [
    {
     "name": "stdout",
     "output_type": "stream",
     "text": [
      "Help on SVC in module sklearn.svm.classes object:\n",
      "\n",
      "class SVC(sklearn.svm.base.BaseSVC)\n",
      " |  C-Support Vector Classification.\n",
      " |  \n",
      " |  The implementation is based on libsvm. The fit time complexity\n",
      " |  is more than quadratic with the number of samples which makes it hard\n",
      " |  to scale to dataset with more than a couple of 10000 samples.\n",
      " |  \n",
      " |  The multiclass support is handled according to a one-vs-one scheme.\n",
      " |  \n",
      " |  For details on the precise mathematical formulation of the provided\n",
      " |  kernel functions and how `gamma`, `coef0` and `degree` affect each\n",
      " |  other, see the corresponding section in the narrative documentation:\n",
      " |  :ref:`svm_kernels`.\n",
      " |  \n",
      " |  Read more in the :ref:`User Guide <svm_classification>`.\n",
      " |  \n",
      " |  Parameters\n",
      " |  ----------\n",
      " |  C : float, optional (default=1.0)\n",
      " |      Penalty parameter C of the error term.\n",
      " |  \n",
      " |  kernel : string, optional (default='rbf')\n",
      " |       Specifies the kernel type to be used in the algorithm.\n",
      " |       It must be one of 'linear', 'poly', 'rbf', 'sigmoid', 'precomputed' or\n",
      " |       a callable.\n",
      " |       If none is given, 'rbf' will be used. If a callable is given it is\n",
      " |       used to pre-compute the kernel matrix from data matrices; that matrix\n",
      " |       should be an array of shape ``(n_samples, n_samples)``.\n",
      " |  \n",
      " |  degree : int, optional (default=3)\n",
      " |      Degree of the polynomial kernel function ('poly').\n",
      " |      Ignored by all other kernels.\n",
      " |  \n",
      " |  gamma : float, optional (default='auto')\n",
      " |      Kernel coefficient for 'rbf', 'poly' and 'sigmoid'.\n",
      " |      If gamma is 'auto' then 1/n_features will be used instead.\n",
      " |  \n",
      " |  coef0 : float, optional (default=0.0)\n",
      " |      Independent term in kernel function.\n",
      " |      It is only significant in 'poly' and 'sigmoid'.\n",
      " |  \n",
      " |  probability : boolean, optional (default=False)\n",
      " |      Whether to enable probability estimates. This must be enabled prior\n",
      " |      to calling `fit`, and will slow down that method.\n",
      " |  \n",
      " |  shrinking : boolean, optional (default=True)\n",
      " |      Whether to use the shrinking heuristic.\n",
      " |  \n",
      " |  tol : float, optional (default=1e-3)\n",
      " |      Tolerance for stopping criterion.\n",
      " |  \n",
      " |  cache_size : float, optional\n",
      " |      Specify the size of the kernel cache (in MB).\n",
      " |  \n",
      " |  class_weight : {dict, 'balanced'}, optional\n",
      " |      Set the parameter C of class i to class_weight[i]*C for\n",
      " |      SVC. If not given, all classes are supposed to have\n",
      " |      weight one.\n",
      " |      The \"balanced\" mode uses the values of y to automatically adjust\n",
      " |      weights inversely proportional to class frequencies in the input data\n",
      " |      as ``n_samples / (n_classes * np.bincount(y))``\n",
      " |  \n",
      " |  verbose : bool, default: False\n",
      " |      Enable verbose output. Note that this setting takes advantage of a\n",
      " |      per-process runtime setting in libsvm that, if enabled, may not work\n",
      " |      properly in a multithreaded context.\n",
      " |  \n",
      " |  max_iter : int, optional (default=-1)\n",
      " |      Hard limit on iterations within solver, or -1 for no limit.\n",
      " |  \n",
      " |  decision_function_shape : 'ovo', 'ovr' or None, default=None\n",
      " |      Whether to return a one-vs-rest ('ovr') ecision function of shape\n",
      " |      (n_samples, n_classes) as all other classifiers, or the original\n",
      " |      one-vs-one ('ovo') decision function of libsvm which has shape\n",
      " |      (n_samples, n_classes * (n_classes - 1) / 2).\n",
      " |      The default of None will currently behave as 'ovo' for backward\n",
      " |      compatibility and raise a deprecation warning, but will change 'ovr'\n",
      " |      in 0.18.\n",
      " |  \n",
      " |      .. versionadded:: 0.17\n",
      " |         *decision_function_shape='ovr'* is recommended.\n",
      " |  \n",
      " |      .. versionchanged:: 0.17\n",
      " |         Deprecated *decision_function_shape='ovo' and None*.\n",
      " |  \n",
      " |  random_state : int seed, RandomState instance, or None (default)\n",
      " |      The seed of the pseudo random number generator to use when\n",
      " |      shuffling the data for probability estimation.\n",
      " |  \n",
      " |  Attributes\n",
      " |  ----------\n",
      " |  support_ : array-like, shape = [n_SV]\n",
      " |      Indices of support vectors.\n",
      " |  \n",
      " |  support_vectors_ : array-like, shape = [n_SV, n_features]\n",
      " |      Support vectors.\n",
      " |  \n",
      " |  n_support_ : array-like, dtype=int32, shape = [n_class]\n",
      " |      Number of support vectors for each class.\n",
      " |  \n",
      " |  dual_coef_ : array, shape = [n_class-1, n_SV]\n",
      " |      Coefficients of the support vector in the decision function.\n",
      " |      For multiclass, coefficient for all 1-vs-1 classifiers.\n",
      " |      The layout of the coefficients in the multiclass case is somewhat\n",
      " |      non-trivial. See the section about multi-class classification in the\n",
      " |      SVM section of the User Guide for details.\n",
      " |  \n",
      " |  coef_ : array, shape = [n_class-1, n_features]\n",
      " |      Weights assigned to the features (coefficients in the primal\n",
      " |      problem). This is only available in the case of a linear kernel.\n",
      " |  \n",
      " |      `coef_` is a readonly property derived from `dual_coef_` and\n",
      " |      `support_vectors_`.\n",
      " |  \n",
      " |  intercept_ : array, shape = [n_class * (n_class-1) / 2]\n",
      " |      Constants in decision function.\n",
      " |  \n",
      " |  Examples\n",
      " |  --------\n",
      " |  >>> import numpy as np\n",
      " |  >>> X = np.array([[-1, -1], [-2, -1], [1, 1], [2, 1]])\n",
      " |  >>> y = np.array([1, 1, 2, 2])\n",
      " |  >>> from sklearn.svm import SVC\n",
      " |  >>> clf = SVC()\n",
      " |  >>> clf.fit(X, y) #doctest: +NORMALIZE_WHITESPACE\n",
      " |  SVC(C=1.0, cache_size=200, class_weight=None, coef0=0.0,\n",
      " |      decision_function_shape=None, degree=3, gamma='auto', kernel='rbf',\n",
      " |      max_iter=-1, probability=False, random_state=None, shrinking=True,\n",
      " |      tol=0.001, verbose=False)\n",
      " |  >>> print(clf.predict([[-0.8, -1]]))\n",
      " |  [1]\n",
      " |  \n",
      " |  See also\n",
      " |  --------\n",
      " |  SVR\n",
      " |      Support Vector Machine for Regression implemented using libsvm.\n",
      " |  \n",
      " |  LinearSVC\n",
      " |      Scalable Linear Support Vector Machine for classification\n",
      " |      implemented using liblinear. Check the See also section of\n",
      " |      LinearSVC for more comparison element.\n",
      " |  \n",
      " |  Method resolution order:\n",
      " |      SVC\n",
      " |      sklearn.svm.base.BaseSVC\n",
      " |      abc.NewBase\n",
      " |      sklearn.svm.base.BaseLibSVM\n",
      " |      abc.NewBase\n",
      " |      sklearn.base.BaseEstimator\n",
      " |      sklearn.base.ClassifierMixin\n",
      " |      builtins.object\n",
      " |  \n",
      " |  Methods defined here:\n",
      " |  \n",
      " |  __init__(self, C=1.0, kernel='rbf', degree=3, gamma='auto', coef0=0.0, shrinking=True, probability=False, tol=0.001, cache_size=200, class_weight=None, verbose=False, max_iter=-1, decision_function_shape=None, random_state=None)\n",
      " |      Initialize self.  See help(type(self)) for accurate signature.\n",
      " |  \n",
      " |  ----------------------------------------------------------------------\n",
      " |  Data and other attributes defined here:\n",
      " |  \n",
      " |  __abstractmethods__ = frozenset()\n",
      " |  \n",
      " |  ----------------------------------------------------------------------\n",
      " |  Methods inherited from sklearn.svm.base.BaseSVC:\n",
      " |  \n",
      " |  decision_function(self, X)\n",
      " |      Distance of the samples X to the separating hyperplane.\n",
      " |      \n",
      " |      Parameters\n",
      " |      ----------\n",
      " |      X : array-like, shape (n_samples, n_features)\n",
      " |      \n",
      " |      Returns\n",
      " |      -------\n",
      " |      X : array-like, shape (n_samples, n_classes * (n_classes-1) / 2)\n",
      " |          Returns the decision function of the sample for each class\n",
      " |          in the model.\n",
      " |          If decision_function_shape='ovr', the shape is (n_samples,\n",
      " |          n_classes)\n",
      " |  \n",
      " |  predict(self, X)\n",
      " |      Perform classification on samples in X.\n",
      " |      \n",
      " |      For an one-class model, +1 or -1 is returned.\n",
      " |      \n",
      " |      Parameters\n",
      " |      ----------\n",
      " |      X : {array-like, sparse matrix}, shape (n_samples, n_features)\n",
      " |          For kernel=\"precomputed\", the expected shape of X is\n",
      " |          [n_samples_test, n_samples_train]\n",
      " |      \n",
      " |      Returns\n",
      " |      -------\n",
      " |      y_pred : array, shape (n_samples,)\n",
      " |          Class labels for samples in X.\n",
      " |  \n",
      " |  ----------------------------------------------------------------------\n",
      " |  Data descriptors inherited from sklearn.svm.base.BaseSVC:\n",
      " |  \n",
      " |  predict_log_proba\n",
      " |      Compute log probabilities of possible outcomes for samples in X.\n",
      " |      \n",
      " |      The model need to have probability information computed at training\n",
      " |      time: fit with attribute `probability` set to True.\n",
      " |      \n",
      " |      Parameters\n",
      " |      ----------\n",
      " |      X : array-like, shape (n_samples, n_features)\n",
      " |          For kernel=\"precomputed\", the expected shape of X is\n",
      " |          [n_samples_test, n_samples_train]\n",
      " |      \n",
      " |      Returns\n",
      " |      -------\n",
      " |      T : array-like, shape (n_samples, n_classes)\n",
      " |          Returns the log-probabilities of the sample for each class in\n",
      " |          the model. The columns correspond to the classes in sorted\n",
      " |          order, as they appear in the attribute `classes_`.\n",
      " |      \n",
      " |      Notes\n",
      " |      -----\n",
      " |      The probability model is created using cross validation, so\n",
      " |      the results can be slightly different than those obtained by\n",
      " |      predict. Also, it will produce meaningless results on very small\n",
      " |      datasets.\n",
      " |  \n",
      " |  predict_proba\n",
      " |      Compute probabilities of possible outcomes for samples in X.\n",
      " |      \n",
      " |      The model need to have probability information computed at training\n",
      " |      time: fit with attribute `probability` set to True.\n",
      " |      \n",
      " |      Parameters\n",
      " |      ----------\n",
      " |      X : array-like, shape (n_samples, n_features)\n",
      " |          For kernel=\"precomputed\", the expected shape of X is\n",
      " |          [n_samples_test, n_samples_train]\n",
      " |      \n",
      " |      Returns\n",
      " |      -------\n",
      " |      T : array-like, shape (n_samples, n_classes)\n",
      " |          Returns the probability of the sample for each class in\n",
      " |          the model. The columns correspond to the classes in sorted\n",
      " |          order, as they appear in the attribute `classes_`.\n",
      " |      \n",
      " |      Notes\n",
      " |      -----\n",
      " |      The probability model is created using cross validation, so\n",
      " |      the results can be slightly different than those obtained by\n",
      " |      predict. Also, it will produce meaningless results on very small\n",
      " |      datasets.\n",
      " |  \n",
      " |  ----------------------------------------------------------------------\n",
      " |  Methods inherited from sklearn.svm.base.BaseLibSVM:\n",
      " |  \n",
      " |  fit(self, X, y, sample_weight=None)\n",
      " |      Fit the SVM model according to the given training data.\n",
      " |      \n",
      " |      Parameters\n",
      " |      ----------\n",
      " |      X : {array-like, sparse matrix}, shape (n_samples, n_features)\n",
      " |          Training vectors, where n_samples is the number of samples\n",
      " |          and n_features is the number of features.\n",
      " |          For kernel=\"precomputed\", the expected shape of X is\n",
      " |          (n_samples, n_samples).\n",
      " |      \n",
      " |      y : array-like, shape (n_samples,)\n",
      " |          Target values (class labels in classification, real numbers in\n",
      " |          regression)\n",
      " |      \n",
      " |      sample_weight : array-like, shape (n_samples,)\n",
      " |          Per-sample weights. Rescale C per sample. Higher weights\n",
      " |          force the classifier to put more emphasis on these points.\n",
      " |      \n",
      " |      Returns\n",
      " |      -------\n",
      " |      self : object\n",
      " |          Returns self.\n",
      " |      \n",
      " |      Notes\n",
      " |      ------\n",
      " |      If X and y are not C-ordered and contiguous arrays of np.float64 and\n",
      " |      X is not a scipy.sparse.csr_matrix, X and/or y may be copied.\n",
      " |      \n",
      " |      If X is a dense array, then the other methods will not support sparse\n",
      " |      matrices as input.\n",
      " |  \n",
      " |  ----------------------------------------------------------------------\n",
      " |  Data descriptors inherited from sklearn.svm.base.BaseLibSVM:\n",
      " |  \n",
      " |  coef_\n",
      " |  \n",
      " |  ----------------------------------------------------------------------\n",
      " |  Methods inherited from sklearn.base.BaseEstimator:\n",
      " |  \n",
      " |  __repr__(self)\n",
      " |      Return repr(self).\n",
      " |  \n",
      " |  get_params(self, deep=True)\n",
      " |      Get parameters for this estimator.\n",
      " |      \n",
      " |      Parameters\n",
      " |      ----------\n",
      " |      deep: boolean, optional\n",
      " |          If True, will return the parameters for this estimator and\n",
      " |          contained subobjects that are estimators.\n",
      " |      \n",
      " |      Returns\n",
      " |      -------\n",
      " |      params : mapping of string to any\n",
      " |          Parameter names mapped to their values.\n",
      " |  \n",
      " |  set_params(self, **params)\n",
      " |      Set the parameters of this estimator.\n",
      " |      \n",
      " |      The method works on simple estimators as well as on nested objects\n",
      " |      (such as pipelines). The former have parameters of the form\n",
      " |      ``<component>__<parameter>`` so that it's possible to update each\n",
      " |      component of a nested object.\n",
      " |      \n",
      " |      Returns\n",
      " |      -------\n",
      " |      self\n",
      " |  \n",
      " |  ----------------------------------------------------------------------\n",
      " |  Data descriptors inherited from sklearn.base.BaseEstimator:\n",
      " |  \n",
      " |  __dict__\n",
      " |      dictionary for instance variables (if defined)\n",
      " |  \n",
      " |  __weakref__\n",
      " |      list of weak references to the object (if defined)\n",
      " |  \n",
      " |  ----------------------------------------------------------------------\n",
      " |  Methods inherited from sklearn.base.ClassifierMixin:\n",
      " |  \n",
      " |  score(self, X, y, sample_weight=None)\n",
      " |      Returns the mean accuracy on the given test data and labels.\n",
      " |      \n",
      " |      In multi-label classification, this is the subset accuracy\n",
      " |      which is a harsh metric since you require for each sample that\n",
      " |      each label set be correctly predicted.\n",
      " |      \n",
      " |      Parameters\n",
      " |      ----------\n",
      " |      X : array-like, shape = (n_samples, n_features)\n",
      " |          Test samples.\n",
      " |      \n",
      " |      y : array-like, shape = (n_samples) or (n_samples, n_outputs)\n",
      " |          True labels for X.\n",
      " |      \n",
      " |      sample_weight : array-like, shape = [n_samples], optional\n",
      " |          Sample weights.\n",
      " |      \n",
      " |      Returns\n",
      " |      -------\n",
      " |      score : float\n",
      " |          Mean accuracy of self.predict(X) wrt. y.\n",
      "\n"
     ]
    }
   ],
   "source": [
    "c = svm.SVC()\n",
    "help(c)"
   ]
  },
  {
   "cell_type": "code",
   "execution_count": 30,
   "metadata": {
    "collapsed": false
   },
   "outputs": [
    {
     "data": {
      "text/plain": [
       "(1797, 8, 8)"
      ]
     },
     "execution_count": 30,
     "metadata": {},
     "output_type": "execute_result"
    }
   ],
   "source": [
    "digits.images.shape"
   ]
  },
  {
   "cell_type": "code",
   "execution_count": 31,
   "metadata": {
    "collapsed": false
   },
   "outputs": [
    {
     "data": {
      "text/plain": [
       "(1797, 64)"
      ]
     },
     "execution_count": 31,
     "metadata": {},
     "output_type": "execute_result"
    }
   ],
   "source": [
    "digits.data.shape"
   ]
  },
  {
   "cell_type": "code",
   "execution_count": 32,
   "metadata": {
    "collapsed": false
   },
   "outputs": [],
   "source": [
    "def oneVsRest(ds, c):\n",
    "    i1 = ds.target == c\n",
    "    i2 = ~i1\n",
    "    return ds.data[i1 | i2], i1.astype('int') - i2.astype('int')"
   ]
  },
  {
   "cell_type": "code",
   "execution_count": 33,
   "metadata": {
    "collapsed": false
   },
   "outputs": [
    {
     "data": {
      "text/plain": [
       "(array([[  0.,   0.,   5., ...,   0.,   0.,   0.],\n",
       "        [  0.,   0.,   0., ...,  10.,   0.,   0.],\n",
       "        [  0.,   0.,   0., ...,  16.,   9.,   0.],\n",
       "        ..., \n",
       "        [  0.,   0.,   1., ...,   6.,   0.,   0.],\n",
       "        [  0.,   0.,   2., ...,  12.,   0.,   0.],\n",
       "        [  0.,   0.,  10., ...,  12.,   1.,   0.]]),\n",
       " array([-1,  1, -1, ..., -1, -1, -1]))"
      ]
     },
     "execution_count": 33,
     "metadata": {},
     "output_type": "execute_result"
    }
   ],
   "source": [
    "oneVsRest(digits, 1)"
   ]
  },
  {
   "cell_type": "code",
   "execution_count": 34,
   "metadata": {
    "collapsed": false
   },
   "outputs": [],
   "source": [
    "x, y = oneVsRest(digits, 1)"
   ]
  },
  {
   "cell_type": "code",
   "execution_count": 35,
   "metadata": {
    "collapsed": false
   },
   "outputs": [
    {
     "data": {
      "text/plain": [
       "SVC(C=1.0, cache_size=200, class_weight=None, coef0=0.0,\n",
       "  decision_function_shape=None, degree=3, gamma='auto', kernel='rbf',\n",
       "  max_iter=-1, probability=False, random_state=None, shrinking=True,\n",
       "  tol=0.001, verbose=False)"
      ]
     },
     "execution_count": 35,
     "metadata": {},
     "output_type": "execute_result"
    }
   ],
   "source": [
    "c.fit(x, y)"
   ]
  },
  {
   "cell_type": "code",
   "execution_count": 36,
   "metadata": {
    "collapsed": false
   },
   "outputs": [
    {
     "data": {
      "text/plain": [
       "1.0"
      ]
     },
     "execution_count": 36,
     "metadata": {},
     "output_type": "execute_result"
    }
   ],
   "source": [
    "c.score(x, y)"
   ]
  },
  {
   "cell_type": "code",
   "execution_count": 37,
   "metadata": {
    "collapsed": false
   },
   "outputs": [],
   "source": [
    "import sklearn.metrics as mt"
   ]
  },
  {
   "cell_type": "code",
   "execution_count": 38,
   "metadata": {
    "collapsed": false
   },
   "outputs": [
    {
     "data": {
      "text/plain": [
       "0.0"
      ]
     },
     "execution_count": 38,
     "metadata": {},
     "output_type": "execute_result"
    }
   ],
   "source": [
    "mt.zero_one_loss(y, c.predict(x))"
   ]
  },
  {
   "cell_type": "markdown",
   "metadata": {},
   "source": [
    "# Training / Test splits"
   ]
  },
  {
   "cell_type": "code",
   "execution_count": 39,
   "metadata": {
    "collapsed": false
   },
   "outputs": [],
   "source": [
    "import sklearn.cross_validation as cv"
   ]
  },
  {
   "cell_type": "code",
   "execution_count": 40,
   "metadata": {
    "collapsed": false
   },
   "outputs": [],
   "source": [
    "x, y = oneVsRest(digits, 1)\n",
    "xt, xe, yt, ye = cv.train_test_split(x, y)"
   ]
  },
  {
   "cell_type": "code",
   "execution_count": 41,
   "metadata": {
    "collapsed": false
   },
   "outputs": [
    {
     "data": {
      "text/plain": [
       "0.99555555555555553"
      ]
     },
     "execution_count": 41,
     "metadata": {},
     "output_type": "execute_result"
    }
   ],
   "source": [
    "c = svm.SVC(kernel='poly', C=100, gamma=0.001)\n",
    "c.fit(xt, yt)\n",
    "c.score(xe, ye)"
   ]
  },
  {
   "cell_type": "markdown",
   "metadata": {},
   "source": [
    "# Full grid search"
   ]
  },
  {
   "cell_type": "code",
   "execution_count": 42,
   "metadata": {
    "collapsed": false
   },
   "outputs": [],
   "source": [
    "import sklearn.grid_search as gs"
   ]
  },
  {
   "cell_type": "code",
   "execution_count": 43,
   "metadata": {
    "collapsed": false
   },
   "outputs": [],
   "source": [
    "params = {'kernel': ['rbf'], 'gamma': np.logspace(-3, 3, 7), 'C': np.logspace(-3, 3, 7)}"
   ]
  },
  {
   "cell_type": "code",
   "execution_count": 44,
   "metadata": {
    "collapsed": false
   },
   "outputs": [],
   "source": [
    "gc = gs.GridSearchCV(svm.SVC(), params, verbose=10)"
   ]
  },
  {
   "cell_type": "code",
   "execution_count": 45,
   "metadata": {
    "collapsed": false
   },
   "outputs": [
    {
     "name": "stdout",
     "output_type": "stream",
     "text": [
      "Fitting 3 folds for each of 49 candidates, totalling 147 fits\n",
      "[CV] gamma=0.001, kernel=rbf, C=0.001 ................................\n",
      "[CV] ....... gamma=0.001, kernel=rbf, C=0.001, score=0.898333 -   0.1s\n",
      "[CV] gamma=0.001, kernel=rbf, C=0.001 ................................\n",
      "[CV] ....... gamma=0.001, kernel=rbf, C=0.001, score=0.898164 -   0.0s\n",
      "[CV] gamma=0.001, kernel=rbf, C=0.001 ................................\n",
      "[CV] ....... gamma=0.001, kernel=rbf, C=0.001, score=0.899666 -   0.0s\n",
      "[CV] gamma=0.01, kernel=rbf, C=0.001 .................................\n",
      "[CV] ........ gamma=0.01, kernel=rbf, C=0.001, score=0.898333 -   0.0s\n",
      "[CV] gamma=0.01, kernel=rbf, C=0.001 .................................\n"
     ]
    },
    {
     "name": "stderr",
     "output_type": "stream",
     "text": [
      "[Parallel(n_jobs=1)]: Done   1 tasks       | elapsed:    0.1s\n",
      "[Parallel(n_jobs=1)]: Done   4 tasks       | elapsed:    0.2s\n"
     ]
    },
    {
     "name": "stdout",
     "output_type": "stream",
     "text": [
      "[CV] ........ gamma=0.01, kernel=rbf, C=0.001, score=0.898164 -   0.1s\n",
      "[CV] gamma=0.01, kernel=rbf, C=0.001 .................................\n",
      "[CV] ........ gamma=0.01, kernel=rbf, C=0.001, score=0.899666 -   0.1s\n",
      "[CV] gamma=0.1, kernel=rbf, C=0.001 ..................................\n",
      "[CV] ......... gamma=0.1, kernel=rbf, C=0.001, score=0.898333 -   0.1s\n",
      "[CV] gamma=0.1, kernel=rbf, C=0.001 ..................................\n",
      "[CV] ......... gamma=0.1, kernel=rbf, C=0.001, score=0.898164 -   0.1s\n",
      "[CV] gamma=0.1, kernel=rbf, C=0.001 ..................................\n"
     ]
    },
    {
     "name": "stderr",
     "output_type": "stream",
     "text": [
      "[Parallel(n_jobs=1)]: Done   7 tasks       | elapsed:    0.4s\n"
     ]
    },
    {
     "name": "stdout",
     "output_type": "stream",
     "text": [
      "[CV] ......... gamma=0.1, kernel=rbf, C=0.001, score=0.899666 -   0.1s\n",
      "[CV] gamma=1.0, kernel=rbf, C=0.001 ..................................\n",
      "[CV] ......... gamma=1.0, kernel=rbf, C=0.001, score=0.898333 -   0.1s\n",
      "[CV] gamma=1.0, kernel=rbf, C=0.001 ..................................\n",
      "[CV] ......... gamma=1.0, kernel=rbf, C=0.001, score=0.898164 -   0.1s\n",
      "[CV] gamma=1.0, kernel=rbf, C=0.001 ..................................\n",
      "[CV] ......... gamma=1.0, kernel=rbf, C=0.001, score=0.899666 -   0.1s\n",
      "[CV] gamma=10.0, kernel=rbf, C=0.001 .................................\n"
     ]
    },
    {
     "name": "stderr",
     "output_type": "stream",
     "text": [
      "[Parallel(n_jobs=1)]: Done  12 tasks       | elapsed:    0.7s\n"
     ]
    },
    {
     "name": "stdout",
     "output_type": "stream",
     "text": [
      "[CV] ........ gamma=10.0, kernel=rbf, C=0.001, score=0.898333 -   0.1s\n",
      "[CV] gamma=10.0, kernel=rbf, C=0.001 .................................\n",
      "[CV] ........ gamma=10.0, kernel=rbf, C=0.001, score=0.898164 -   0.1s\n",
      "[CV] gamma=10.0, kernel=rbf, C=0.001 .................................\n",
      "[CV] ........ gamma=10.0, kernel=rbf, C=0.001, score=0.899666 -   0.1s\n",
      "[CV] gamma=100.0, kernel=rbf, C=0.001 ................................\n",
      "[CV] ....... gamma=100.0, kernel=rbf, C=0.001, score=0.898333 -   0.1s\n",
      "[CV] gamma=100.0, kernel=rbf, C=0.001 ................................\n",
      "[CV] ....... gamma=100.0, kernel=rbf, C=0.001, score=0.898164 -   0.1s\n",
      "[CV] gamma=100.0, kernel=rbf, C=0.001 ................................\n",
      "[CV] ....... gamma=100.0, kernel=rbf, C=0.001, score=0.899666 -   0.1s\n",
      "[CV] gamma=1000.0, kernel=rbf, C=0.001 ...............................\n",
      "[CV] ...... gamma=1000.0, kernel=rbf, C=0.001, score=0.898333 -   0.1s\n",
      "[CV] gamma=1000.0, kernel=rbf, C=0.001 ...............................\n",
      "[CV] ...... gamma=1000.0, kernel=rbf, C=0.001, score=0.898164 -   0.1s\n",
      "[CV] gamma=1000.0, kernel=rbf, C=0.001 ...............................\n"
     ]
    },
    {
     "name": "stderr",
     "output_type": "stream",
     "text": [
      "[Parallel(n_jobs=1)]: Done  17 tasks       | elapsed:    1.0s\n"
     ]
    },
    {
     "name": "stdout",
     "output_type": "stream",
     "text": [
      "[CV] ...... gamma=1000.0, kernel=rbf, C=0.001, score=0.899666 -   0.1s\n",
      "[CV] gamma=0.001, kernel=rbf, C=0.01 .................................\n",
      "[CV] ........ gamma=0.001, kernel=rbf, C=0.01, score=0.898333 -   0.1s\n",
      "[CV] gamma=0.001, kernel=rbf, C=0.01 .................................\n",
      "[CV] ........ gamma=0.001, kernel=rbf, C=0.01, score=0.898164 -   0.0s\n",
      "[CV] gamma=0.001, kernel=rbf, C=0.01 .................................\n",
      "[CV] ........ gamma=0.001, kernel=rbf, C=0.01, score=0.899666 -   0.0s\n",
      "[CV] gamma=0.01, kernel=rbf, C=0.01 ..................................\n"
     ]
    },
    {
     "name": "stderr",
     "output_type": "stream",
     "text": [
      "[Parallel(n_jobs=1)]: Done  24 tasks       | elapsed:    1.3s\n"
     ]
    },
    {
     "name": "stdout",
     "output_type": "stream",
     "text": [
      "[CV] ......... gamma=0.01, kernel=rbf, C=0.01, score=0.898333 -   0.2s\n",
      "[CV] gamma=0.01, kernel=rbf, C=0.01 ..................................\n",
      "[CV] ......... gamma=0.01, kernel=rbf, C=0.01, score=0.898164 -   0.2s\n",
      "[CV] gamma=0.01, kernel=rbf, C=0.01 ..................................\n",
      "[CV] ......... gamma=0.01, kernel=rbf, C=0.01, score=0.899666 -   0.2s\n",
      "[CV] gamma=0.1, kernel=rbf, C=0.01 ...................................\n",
      "[CV] .......... gamma=0.1, kernel=rbf, C=0.01, score=0.898333 -   0.2s\n",
      "[CV] gamma=0.1, kernel=rbf, C=0.01 ...................................\n",
      "[CV] .......... gamma=0.1, kernel=rbf, C=0.01, score=0.898164 -   0.2s\n",
      "[CV] gamma=0.1, kernel=rbf, C=0.01 ...................................\n",
      "[CV] .......... gamma=0.1, kernel=rbf, C=0.01, score=0.899666 -   0.2s\n",
      "[CV] gamma=1.0, kernel=rbf, C=0.01 ...................................\n",
      "[CV] .......... gamma=1.0, kernel=rbf, C=0.01, score=0.898333 -   0.2s\n",
      "[CV] gamma=1.0, kernel=rbf, C=0.01 ...................................\n"
     ]
    },
    {
     "name": "stderr",
     "output_type": "stream",
     "text": [
      "[Parallel(n_jobs=1)]: Done  31 tasks       | elapsed:    2.8s\n"
     ]
    },
    {
     "name": "stdout",
     "output_type": "stream",
     "text": [
      "[CV] .......... gamma=1.0, kernel=rbf, C=0.01, score=0.898164 -   0.2s\n",
      "[CV] gamma=1.0, kernel=rbf, C=0.01 ...................................\n",
      "[CV] .......... gamma=1.0, kernel=rbf, C=0.01, score=0.899666 -   0.2s\n",
      "[CV] gamma=10.0, kernel=rbf, C=0.01 ..................................\n",
      "[CV] ......... gamma=10.0, kernel=rbf, C=0.01, score=0.898333 -   0.2s\n",
      "[CV] gamma=10.0, kernel=rbf, C=0.01 ..................................\n",
      "[CV] ......... gamma=10.0, kernel=rbf, C=0.01, score=0.898164 -   0.2s\n",
      "[CV] gamma=10.0, kernel=rbf, C=0.01 ..................................\n",
      "[CV] ......... gamma=10.0, kernel=rbf, C=0.01, score=0.899666 -   0.2s\n",
      "[CV] gamma=100.0, kernel=rbf, C=0.01 .................................\n",
      "[CV] ........ gamma=100.0, kernel=rbf, C=0.01, score=0.898333 -   0.2s\n",
      "[CV] gamma=100.0, kernel=rbf, C=0.01 .................................\n",
      "[CV] ........ gamma=100.0, kernel=rbf, C=0.01, score=0.898164 -   0.2s\n",
      "[CV] gamma=100.0, kernel=rbf, C=0.01 .................................\n",
      "[CV] ........ gamma=100.0, kernel=rbf, C=0.01, score=0.899666 -   0.2s\n",
      "[CV] gamma=1000.0, kernel=rbf, C=0.01 ................................\n",
      "[CV] ....... gamma=1000.0, kernel=rbf, C=0.01, score=0.898333 -   0.2s\n",
      "[CV] gamma=1000.0, kernel=rbf, C=0.01 ................................\n",
      "[CV] ....... gamma=1000.0, kernel=rbf, C=0.01, score=0.898164 -   0.2s\n",
      "[CV] gamma=1000.0, kernel=rbf, C=0.01 ................................\n"
     ]
    },
    {
     "name": "stderr",
     "output_type": "stream",
     "text": [
      "[Parallel(n_jobs=1)]: Done  40 tasks       | elapsed:    4.4s\n"
     ]
    },
    {
     "name": "stdout",
     "output_type": "stream",
     "text": [
      "[CV] ....... gamma=1000.0, kernel=rbf, C=0.01, score=0.899666 -   0.2s\n",
      "[CV] gamma=0.001, kernel=rbf, C=0.1 ..................................\n",
      "[CV] ......... gamma=0.001, kernel=rbf, C=0.1, score=0.921667 -   0.0s\n",
      "[CV] gamma=0.001, kernel=rbf, C=0.1 ..................................\n",
      "[CV] ......... gamma=0.001, kernel=rbf, C=0.1, score=0.933222 -   0.0s\n",
      "[CV] gamma=0.001, kernel=rbf, C=0.1 ..................................\n",
      "[CV] ......... gamma=0.001, kernel=rbf, C=0.1, score=0.953177 -   0.0s\n",
      "[CV] gamma=0.01, kernel=rbf, C=0.1 ...................................\n",
      "[CV] .......... gamma=0.01, kernel=rbf, C=0.1, score=0.898333 -   0.2s\n",
      "[CV] gamma=0.01, kernel=rbf, C=0.1 ...................................\n",
      "[CV] .......... gamma=0.01, kernel=rbf, C=0.1, score=0.898164 -   0.2s\n",
      "[CV] gamma=0.01, kernel=rbf, C=0.1 ...................................\n",
      "[CV] .......... gamma=0.01, kernel=rbf, C=0.1, score=0.899666 -   0.2s\n",
      "[CV] gamma=0.1, kernel=rbf, C=0.1 ....................................\n",
      "[CV] ........... gamma=0.1, kernel=rbf, C=0.1, score=0.898333 -   0.2s\n",
      "[CV] gamma=0.1, kernel=rbf, C=0.1 ....................................\n"
     ]
    },
    {
     "name": "stderr",
     "output_type": "stream",
     "text": [
      "[Parallel(n_jobs=1)]: Done  49 tasks       | elapsed:    5.8s\n"
     ]
    },
    {
     "name": "stdout",
     "output_type": "stream",
     "text": [
      "[CV] ........... gamma=0.1, kernel=rbf, C=0.1, score=0.898164 -   0.2s\n",
      "[CV] gamma=0.1, kernel=rbf, C=0.1 ....................................\n",
      "[CV] ........... gamma=0.1, kernel=rbf, C=0.1, score=0.899666 -   0.2s\n",
      "[CV] gamma=1.0, kernel=rbf, C=0.1 ....................................\n",
      "[CV] ........... gamma=1.0, kernel=rbf, C=0.1, score=0.898333 -   0.2s\n",
      "[CV] gamma=1.0, kernel=rbf, C=0.1 ....................................\n",
      "[CV] ........... gamma=1.0, kernel=rbf, C=0.1, score=0.898164 -   0.2s\n",
      "[CV] gamma=1.0, kernel=rbf, C=0.1 ....................................\n",
      "[CV] ........... gamma=1.0, kernel=rbf, C=0.1, score=0.899666 -   0.2s\n",
      "[CV] gamma=10.0, kernel=rbf, C=0.1 ...................................\n",
      "[CV] .......... gamma=10.0, kernel=rbf, C=0.1, score=0.898333 -   0.2s\n",
      "[CV] gamma=10.0, kernel=rbf, C=0.1 ...................................\n",
      "[CV] .......... gamma=10.0, kernel=rbf, C=0.1, score=0.898164 -   0.2s\n",
      "[CV] gamma=10.0, kernel=rbf, C=0.1 ...................................\n",
      "[CV] .......... gamma=10.0, kernel=rbf, C=0.1, score=0.899666 -   0.2s\n",
      "[CV] gamma=100.0, kernel=rbf, C=0.1 ..................................\n",
      "[CV] ......... gamma=100.0, kernel=rbf, C=0.1, score=0.898333 -   0.2s\n",
      "[CV] gamma=100.0, kernel=rbf, C=0.1 ..................................\n",
      "[CV] ......... gamma=100.0, kernel=rbf, C=0.1, score=0.898164 -   0.2s\n",
      "[CV] gamma=100.0, kernel=rbf, C=0.1 ..................................\n",
      "[CV] ......... gamma=100.0, kernel=rbf, C=0.1, score=0.899666 -   0.2s\n",
      "[CV] gamma=1000.0, kernel=rbf, C=0.1 .................................\n"
     ]
    },
    {
     "name": "stderr",
     "output_type": "stream",
     "text": [
      "[Parallel(n_jobs=1)]: Done  60 tasks       | elapsed:    7.9s\n"
     ]
    },
    {
     "name": "stdout",
     "output_type": "stream",
     "text": [
      "[CV] ........ gamma=1000.0, kernel=rbf, C=0.1, score=0.898333 -   0.2s\n",
      "[CV] gamma=1000.0, kernel=rbf, C=0.1 .................................\n",
      "[CV] ........ gamma=1000.0, kernel=rbf, C=0.1, score=0.898164 -   0.2s\n",
      "[CV] gamma=1000.0, kernel=rbf, C=0.1 .................................\n",
      "[CV] ........ gamma=1000.0, kernel=rbf, C=0.1, score=0.899666 -   0.2s\n",
      "[CV] gamma=0.001, kernel=rbf, C=1.0 ..................................\n",
      "[CV] ......... gamma=0.001, kernel=rbf, C=1.0, score=0.985000 -   0.0s\n",
      "[CV] gamma=0.001, kernel=rbf, C=1.0 ..................................\n",
      "[CV] ......... gamma=0.001, kernel=rbf, C=1.0, score=0.991653 -   0.0s\n",
      "[CV] gamma=0.001, kernel=rbf, C=1.0 ..................................\n",
      "[CV] ......... gamma=0.001, kernel=rbf, C=1.0, score=0.984950 -   0.0s\n",
      "[CV] gamma=0.01, kernel=rbf, C=1.0 ...................................\n",
      "[CV] .......... gamma=0.01, kernel=rbf, C=1.0, score=0.901667 -   0.2s\n",
      "[CV] gamma=0.01, kernel=rbf, C=1.0 ...................................\n",
      "[CV] .......... gamma=0.01, kernel=rbf, C=1.0, score=0.913189 -   0.2s\n",
      "[CV] gamma=0.01, kernel=rbf, C=1.0 ...................................\n",
      "[CV] .......... gamma=0.01, kernel=rbf, C=1.0, score=0.913043 -   0.2s\n",
      "[CV] gamma=0.1, kernel=rbf, C=1.0 ....................................\n",
      "[CV] ........... gamma=0.1, kernel=rbf, C=1.0, score=0.898333 -   0.2s\n",
      "[CV] gamma=0.1, kernel=rbf, C=1.0 ....................................\n",
      "[CV] ........... gamma=0.1, kernel=rbf, C=1.0, score=0.898164 -   0.2s\n",
      "[CV] gamma=0.1, kernel=rbf, C=1.0 ....................................\n"
     ]
    },
    {
     "name": "stderr",
     "output_type": "stream",
     "text": [
      "[Parallel(n_jobs=1)]: Done  71 tasks       | elapsed:    9.6s\n"
     ]
    },
    {
     "name": "stdout",
     "output_type": "stream",
     "text": [
      "[CV] ........... gamma=0.1, kernel=rbf, C=1.0, score=0.899666 -   0.2s\n",
      "[CV] gamma=1.0, kernel=rbf, C=1.0 ....................................\n",
      "[CV] ........... gamma=1.0, kernel=rbf, C=1.0, score=0.898333 -   0.2s\n",
      "[CV] gamma=1.0, kernel=rbf, C=1.0 ....................................\n",
      "[CV] ........... gamma=1.0, kernel=rbf, C=1.0, score=0.898164 -   0.2s\n",
      "[CV] gamma=1.0, kernel=rbf, C=1.0 ....................................\n",
      "[CV] ........... gamma=1.0, kernel=rbf, C=1.0, score=0.899666 -   0.2s\n",
      "[CV] gamma=10.0, kernel=rbf, C=1.0 ...................................\n",
      "[CV] .......... gamma=10.0, kernel=rbf, C=1.0, score=0.898333 -   0.2s\n",
      "[CV] gamma=10.0, kernel=rbf, C=1.0 ...................................\n",
      "[CV] .......... gamma=10.0, kernel=rbf, C=1.0, score=0.898164 -   0.2s\n",
      "[CV] gamma=10.0, kernel=rbf, C=1.0 ...................................\n",
      "[CV] .......... gamma=10.0, kernel=rbf, C=1.0, score=0.899666 -   0.2s\n",
      "[CV] gamma=100.0, kernel=rbf, C=1.0 ..................................\n",
      "[CV] ......... gamma=100.0, kernel=rbf, C=1.0, score=0.898333 -   0.2s\n",
      "[CV] gamma=100.0, kernel=rbf, C=1.0 ..................................\n",
      "[CV] ......... gamma=100.0, kernel=rbf, C=1.0, score=0.898164 -   0.2s\n",
      "[CV] gamma=100.0, kernel=rbf, C=1.0 ..................................\n",
      "[CV] ......... gamma=100.0, kernel=rbf, C=1.0, score=0.899666 -   0.2s\n",
      "[CV] gamma=1000.0, kernel=rbf, C=1.0 .................................\n",
      "[CV] ........ gamma=1000.0, kernel=rbf, C=1.0, score=0.898333 -   0.2s\n",
      "[CV] gamma=1000.0, kernel=rbf, C=1.0 .................................\n",
      "[CV] ........ gamma=1000.0, kernel=rbf, C=1.0, score=0.898164 -   0.2s\n",
      "[CV] gamma=1000.0, kernel=rbf, C=1.0 .................................\n",
      "[CV] ........ gamma=1000.0, kernel=rbf, C=1.0, score=0.899666 -   0.2s\n",
      "[CV] gamma=0.001, kernel=rbf, C=10.0 .................................\n",
      "[CV] ........ gamma=0.001, kernel=rbf, C=10.0, score=0.986667 -   0.0s\n",
      "[CV] gamma=0.001, kernel=rbf, C=10.0 .................................\n",
      "[CV] ........ gamma=0.001, kernel=rbf, C=10.0, score=0.993322 -   0.0s\n",
      "[CV] gamma=0.001, kernel=rbf, C=10.0 .................................\n",
      "[CV] ........ gamma=0.001, kernel=rbf, C=10.0, score=0.989967 -   0.0s\n",
      "[CV] gamma=0.01, kernel=rbf, C=10.0 ..................................\n"
     ]
    },
    {
     "name": "stderr",
     "output_type": "stream",
     "text": [
      "[Parallel(n_jobs=1)]: Done  84 tasks       | elapsed:   12.0s\n"
     ]
    },
    {
     "name": "stdout",
     "output_type": "stream",
     "text": [
      "[CV] ......... gamma=0.01, kernel=rbf, C=10.0, score=0.903333 -   0.2s\n",
      "[CV] gamma=0.01, kernel=rbf, C=10.0 ..................................\n",
      "[CV] ......... gamma=0.01, kernel=rbf, C=10.0, score=0.916528 -   0.2s\n",
      "[CV] gamma=0.01, kernel=rbf, C=10.0 ..................................\n",
      "[CV] ......... gamma=0.01, kernel=rbf, C=10.0, score=0.914716 -   0.2s\n",
      "[CV] gamma=0.1, kernel=rbf, C=10.0 ...................................\n",
      "[CV] .......... gamma=0.1, kernel=rbf, C=10.0, score=0.898333 -   0.2s\n",
      "[CV] gamma=0.1, kernel=rbf, C=10.0 ...................................\n",
      "[CV] .......... gamma=0.1, kernel=rbf, C=10.0, score=0.898164 -   0.2s\n",
      "[CV] gamma=0.1, kernel=rbf, C=10.0 ...................................\n",
      "[CV] .......... gamma=0.1, kernel=rbf, C=10.0, score=0.899666 -   0.2s\n",
      "[CV] gamma=1.0, kernel=rbf, C=10.0 ...................................\n",
      "[CV] .......... gamma=1.0, kernel=rbf, C=10.0, score=0.898333 -   0.2s\n",
      "[CV] gamma=1.0, kernel=rbf, C=10.0 ...................................\n",
      "[CV] .......... gamma=1.0, kernel=rbf, C=10.0, score=0.898164 -   0.2s\n",
      "[CV] gamma=1.0, kernel=rbf, C=10.0 ...................................\n",
      "[CV] .......... gamma=1.0, kernel=rbf, C=10.0, score=0.899666 -   0.2s\n",
      "[CV] gamma=10.0, kernel=rbf, C=10.0 ..................................\n",
      "[CV] ......... gamma=10.0, kernel=rbf, C=10.0, score=0.898333 -   0.2s\n",
      "[CV] gamma=10.0, kernel=rbf, C=10.0 ..................................\n",
      "[CV] ......... gamma=10.0, kernel=rbf, C=10.0, score=0.898164 -   0.2s\n",
      "[CV] gamma=10.0, kernel=rbf, C=10.0 ..................................\n"
     ]
    },
    {
     "name": "stderr",
     "output_type": "stream",
     "text": [
      "[Parallel(n_jobs=1)]: Done  97 tasks       | elapsed:   14.2s\n"
     ]
    },
    {
     "name": "stdout",
     "output_type": "stream",
     "text": [
      "[CV] ......... gamma=10.0, kernel=rbf, C=10.0, score=0.899666 -   0.2s\n",
      "[CV] gamma=100.0, kernel=rbf, C=10.0 .................................\n",
      "[CV] ........ gamma=100.0, kernel=rbf, C=10.0, score=0.898333 -   0.2s\n",
      "[CV] gamma=100.0, kernel=rbf, C=10.0 .................................\n",
      "[CV] ........ gamma=100.0, kernel=rbf, C=10.0, score=0.898164 -   0.2s\n",
      "[CV] gamma=100.0, kernel=rbf, C=10.0 .................................\n",
      "[CV] ........ gamma=100.0, kernel=rbf, C=10.0, score=0.899666 -   0.2s\n",
      "[CV] gamma=1000.0, kernel=rbf, C=10.0 ................................\n",
      "[CV] ....... gamma=1000.0, kernel=rbf, C=10.0, score=0.898333 -   0.2s\n",
      "[CV] gamma=1000.0, kernel=rbf, C=10.0 ................................\n",
      "[CV] ....... gamma=1000.0, kernel=rbf, C=10.0, score=0.898164 -   0.2s\n",
      "[CV] gamma=1000.0, kernel=rbf, C=10.0 ................................\n",
      "[CV] ....... gamma=1000.0, kernel=rbf, C=10.0, score=0.899666 -   0.2s\n",
      "[CV] gamma=0.001, kernel=rbf, C=100.0 ................................\n",
      "[CV] ....... gamma=0.001, kernel=rbf, C=100.0, score=0.986667 -   0.0s\n",
      "[CV] gamma=0.001, kernel=rbf, C=100.0 ................................\n",
      "[CV] ....... gamma=0.001, kernel=rbf, C=100.0, score=0.993322 -   0.0s\n",
      "[CV] gamma=0.001, kernel=rbf, C=100.0 ................................\n",
      "[CV] ....... gamma=0.001, kernel=rbf, C=100.0, score=0.989967 -   0.0s\n",
      "[CV] gamma=0.01, kernel=rbf, C=100.0 .................................\n",
      "[CV] ........ gamma=0.01, kernel=rbf, C=100.0, score=0.903333 -   0.2s\n",
      "[CV] gamma=0.01, kernel=rbf, C=100.0 .................................\n",
      "[CV] ........ gamma=0.01, kernel=rbf, C=100.0, score=0.916528 -   0.2s\n",
      "[CV] gamma=0.01, kernel=rbf, C=100.0 .................................\n",
      "[CV] ........ gamma=0.01, kernel=rbf, C=100.0, score=0.914716 -   0.2s\n",
      "[CV] gamma=0.1, kernel=rbf, C=100.0 ..................................\n",
      "[CV] ......... gamma=0.1, kernel=rbf, C=100.0, score=0.898333 -   0.2s\n",
      "[CV] gamma=0.1, kernel=rbf, C=100.0 ..................................\n"
     ]
    },
    {
     "name": "stderr",
     "output_type": "stream",
     "text": [
      "[Parallel(n_jobs=1)]: Done 112 tasks       | elapsed:   16.7s\n"
     ]
    },
    {
     "name": "stdout",
     "output_type": "stream",
     "text": [
      "[CV] ......... gamma=0.1, kernel=rbf, C=100.0, score=0.898164 -   0.2s\n",
      "[CV] gamma=0.1, kernel=rbf, C=100.0 ..................................\n",
      "[CV] ......... gamma=0.1, kernel=rbf, C=100.0, score=0.899666 -   0.2s\n",
      "[CV] gamma=1.0, kernel=rbf, C=100.0 ..................................\n",
      "[CV] ......... gamma=1.0, kernel=rbf, C=100.0, score=0.898333 -   0.2s\n",
      "[CV] gamma=1.0, kernel=rbf, C=100.0 ..................................\n",
      "[CV] ......... gamma=1.0, kernel=rbf, C=100.0, score=0.898164 -   0.2s\n",
      "[CV] gamma=1.0, kernel=rbf, C=100.0 ..................................\n",
      "[CV] ......... gamma=1.0, kernel=rbf, C=100.0, score=0.899666 -   0.2s\n",
      "[CV] gamma=10.0, kernel=rbf, C=100.0 .................................\n",
      "[CV] ........ gamma=10.0, kernel=rbf, C=100.0, score=0.898333 -   0.2s\n",
      "[CV] gamma=10.0, kernel=rbf, C=100.0 .................................\n",
      "[CV] ........ gamma=10.0, kernel=rbf, C=100.0, score=0.898164 -   0.2s\n",
      "[CV] gamma=10.0, kernel=rbf, C=100.0 .................................\n",
      "[CV] ........ gamma=10.0, kernel=rbf, C=100.0, score=0.899666 -   0.2s\n",
      "[CV] gamma=100.0, kernel=rbf, C=100.0 ................................\n",
      "[CV] ....... gamma=100.0, kernel=rbf, C=100.0, score=0.898333 -   0.2s\n",
      "[CV] gamma=100.0, kernel=rbf, C=100.0 ................................\n",
      "[CV] ....... gamma=100.0, kernel=rbf, C=100.0, score=0.898164 -   0.2s\n",
      "[CV] gamma=100.0, kernel=rbf, C=100.0 ................................\n",
      "[CV] ....... gamma=100.0, kernel=rbf, C=100.0, score=0.899666 -   0.2s\n",
      "[CV] gamma=1000.0, kernel=rbf, C=100.0 ...............................\n",
      "[CV] ...... gamma=1000.0, kernel=rbf, C=100.0, score=0.898333 -   0.2s\n",
      "[CV] gamma=1000.0, kernel=rbf, C=100.0 ...............................\n",
      "[CV] ...... gamma=1000.0, kernel=rbf, C=100.0, score=0.898164 -   0.2s\n",
      "[CV] gamma=1000.0, kernel=rbf, C=100.0 ...............................\n",
      "[CV] ...... gamma=1000.0, kernel=rbf, C=100.0, score=0.899666 -   0.2s\n",
      "[CV] gamma=0.001, kernel=rbf, C=1000.0 ...............................\n",
      "[CV] ...... gamma=0.001, kernel=rbf, C=1000.0, score=0.986667 -   0.0s\n",
      "[CV] gamma=0.001, kernel=rbf, C=1000.0 ...............................\n",
      "[CV] ...... gamma=0.001, kernel=rbf, C=1000.0, score=0.993322 -   0.0s\n",
      "[CV] gamma=0.001, kernel=rbf, C=1000.0 ...............................\n",
      "[CV] ...... gamma=0.001, kernel=rbf, C=1000.0, score=0.989967 -   0.0s\n",
      "[CV] gamma=0.01, kernel=rbf, C=1000.0 ................................\n"
     ]
    },
    {
     "name": "stderr",
     "output_type": "stream",
     "text": [
      "[Parallel(n_jobs=1)]: Done 127 tasks       | elapsed:   19.5s\n"
     ]
    },
    {
     "name": "stdout",
     "output_type": "stream",
     "text": [
      "[CV] ....... gamma=0.01, kernel=rbf, C=1000.0, score=0.903333 -   0.2s\n",
      "[CV] gamma=0.01, kernel=rbf, C=1000.0 ................................\n",
      "[CV] ....... gamma=0.01, kernel=rbf, C=1000.0, score=0.916528 -   0.2s\n",
      "[CV] gamma=0.01, kernel=rbf, C=1000.0 ................................\n",
      "[CV] ....... gamma=0.01, kernel=rbf, C=1000.0, score=0.914716 -   0.2s\n",
      "[CV] gamma=0.1, kernel=rbf, C=1000.0 .................................\n",
      "[CV] ........ gamma=0.1, kernel=rbf, C=1000.0, score=0.898333 -   0.2s\n",
      "[CV] gamma=0.1, kernel=rbf, C=1000.0 .................................\n",
      "[CV] ........ gamma=0.1, kernel=rbf, C=1000.0, score=0.898164 -   0.2s\n",
      "[CV] gamma=0.1, kernel=rbf, C=1000.0 .................................\n",
      "[CV] ........ gamma=0.1, kernel=rbf, C=1000.0, score=0.899666 -   0.2s\n",
      "[CV] gamma=1.0, kernel=rbf, C=1000.0 .................................\n",
      "[CV] ........ gamma=1.0, kernel=rbf, C=1000.0, score=0.898333 -   0.2s\n",
      "[CV] gamma=1.0, kernel=rbf, C=1000.0 .................................\n",
      "[CV] ........ gamma=1.0, kernel=rbf, C=1000.0, score=0.898164 -   0.2s\n",
      "[CV] gamma=1.0, kernel=rbf, C=1000.0 .................................\n",
      "[CV] ........ gamma=1.0, kernel=rbf, C=1000.0, score=0.899666 -   0.2s\n",
      "[CV] gamma=10.0, kernel=rbf, C=1000.0 ................................\n",
      "[CV] ....... gamma=10.0, kernel=rbf, C=1000.0, score=0.898333 -   0.2s\n",
      "[CV] gamma=10.0, kernel=rbf, C=1000.0 ................................\n",
      "[CV] ....... gamma=10.0, kernel=rbf, C=1000.0, score=0.898164 -   0.2s\n",
      "[CV] gamma=10.0, kernel=rbf, C=1000.0 ................................\n",
      "[CV] ....... gamma=10.0, kernel=rbf, C=1000.0, score=0.899666 -   0.2s\n",
      "[CV] gamma=100.0, kernel=rbf, C=1000.0 ...............................\n",
      "[CV] ...... gamma=100.0, kernel=rbf, C=1000.0, score=0.898333 -   0.2s\n",
      "[CV] gamma=100.0, kernel=rbf, C=1000.0 ...............................\n",
      "[CV] ...... gamma=100.0, kernel=rbf, C=1000.0, score=0.898164 -   0.2s\n",
      "[CV] gamma=100.0, kernel=rbf, C=1000.0 ...............................\n",
      "[CV] ...... gamma=100.0, kernel=rbf, C=1000.0, score=0.899666 -   0.2s\n",
      "[CV] gamma=1000.0, kernel=rbf, C=1000.0 ..............................\n"
     ]
    },
    {
     "name": "stderr",
     "output_type": "stream",
     "text": [
      "[Parallel(n_jobs=1)]: Done 144 tasks       | elapsed:   22.7s\n"
     ]
    },
    {
     "name": "stdout",
     "output_type": "stream",
     "text": [
      "[CV] ..... gamma=1000.0, kernel=rbf, C=1000.0, score=0.898333 -   0.2s\n",
      "[CV] gamma=1000.0, kernel=rbf, C=1000.0 ..............................\n",
      "[CV] ..... gamma=1000.0, kernel=rbf, C=1000.0, score=0.898164 -   0.2s\n",
      "[CV] gamma=1000.0, kernel=rbf, C=1000.0 ..............................\n",
      "[CV] ..... gamma=1000.0, kernel=rbf, C=1000.0, score=0.899666 -   0.2s\n"
     ]
    },
    {
     "name": "stderr",
     "output_type": "stream",
     "text": [
      "[Parallel(n_jobs=1)]: Done 147 out of 147 | elapsed:   23.3s finished\n"
     ]
    },
    {
     "data": {
      "text/plain": [
       "GridSearchCV(cv=None, error_score='raise',\n",
       "       estimator=SVC(C=1.0, cache_size=200, class_weight=None, coef0=0.0,\n",
       "  decision_function_shape=None, degree=3, gamma='auto', kernel='rbf',\n",
       "  max_iter=-1, probability=False, random_state=None, shrinking=True,\n",
       "  tol=0.001, verbose=False),\n",
       "       fit_params={}, iid=True, n_jobs=1,\n",
       "       param_grid={'gamma': array([  1.00000e-03,   1.00000e-02,   1.00000e-01,   1.00000e+00,\n",
       "         1.00000e+01,   1.00000e+02,   1.00000e+03]), 'C': array([  1.00000e-03,   1.00000e-02,   1.00000e-01,   1.00000e+00,\n",
       "         1.00000e+01,   1.00000e+02,   1.00000e+03]), 'kernel': ['rbf']},\n",
       "       pre_dispatch='2*n_jobs', refit=True, scoring=None, verbose=10)"
      ]
     },
     "execution_count": 45,
     "metadata": {},
     "output_type": "execute_result"
    }
   ],
   "source": [
    "gc.fit(x, y)"
   ]
  },
  {
   "cell_type": "code",
   "execution_count": 46,
   "metadata": {
    "collapsed": false
   },
   "outputs": [
    {
     "data": {
      "text/plain": [
       "{'C': 10.0, 'gamma': 0.001, 'kernel': 'rbf'}"
      ]
     },
     "execution_count": 46,
     "metadata": {},
     "output_type": "execute_result"
    }
   ],
   "source": [
    "gc.best_params_"
   ]
  },
  {
   "cell_type": "code",
   "execution_count": 47,
   "metadata": {
    "collapsed": false
   },
   "outputs": [
    {
     "data": {
      "text/plain": [
       "0.98998330550918201"
      ]
     },
     "execution_count": 47,
     "metadata": {},
     "output_type": "execute_result"
    }
   ],
   "source": [
    "gc.best_score_"
   ]
  },
  {
   "cell_type": "code",
   "execution_count": 48,
   "metadata": {
    "collapsed": false
   },
   "outputs": [],
   "source": [
    "c = gc.best_estimator_"
   ]
  },
  {
   "cell_type": "code",
   "execution_count": 49,
   "metadata": {
    "collapsed": false
   },
   "outputs": [
    {
     "data": {
      "text/plain": [
       "(161, 64)"
      ]
     },
     "execution_count": 49,
     "metadata": {},
     "output_type": "execute_result"
    }
   ],
   "source": [
    "c.support_vectors_.shape"
   ]
  },
  {
   "cell_type": "code",
   "execution_count": 50,
   "metadata": {
    "collapsed": false
   },
   "outputs": [
    {
     "data": {
      "text/plain": [
       "(1, 161)"
      ]
     },
     "execution_count": 50,
     "metadata": {},
     "output_type": "execute_result"
    }
   ],
   "source": [
    "c.dual_coef_.shape"
   ]
  },
  {
   "cell_type": "code",
   "execution_count": 51,
   "metadata": {
    "collapsed": false
   },
   "outputs": [
    {
     "data": {
      "text/plain": [
       "(161, 64)"
      ]
     },
     "execution_count": 51,
     "metadata": {},
     "output_type": "execute_result"
    }
   ],
   "source": [
    "c.support_vectors_.shape"
   ]
  },
  {
   "cell_type": "markdown",
   "metadata": {},
   "source": [
    "# Support vectors studies"
   ]
  },
  {
   "cell_type": "code",
   "execution_count": 52,
   "metadata": {
    "collapsed": false
   },
   "outputs": [],
   "source": [
    "x, y = oneVsRest(digits, 7)"
   ]
  },
  {
   "cell_type": "code",
   "execution_count": 53,
   "metadata": {
    "collapsed": false
   },
   "outputs": [
    {
     "data": {
      "text/plain": [
       "array([ 359.,  381.,  304.,  166.,  156.,  156.,  156.,  156.,  156.])"
      ]
     },
     "execution_count": 53,
     "metadata": {},
     "output_type": "execute_result"
    },
    {
     "data": {
      "image/png": "[encoded data removed]",
      "text/plain": [
       "<matplotlib.figure.Figure at 0x7fe0d50796a0>"
      ]
     },
     "metadata": {},
     "output_type": "display_data"
    }
   ],
   "source": [
    "Cs = np.logspace(-3, 5, 9)\n",
    "numsv = np.zeros(len(Cs))\n",
    "for i in range(len(Cs)):\n",
    "    c = svm.SVC(kernel='rbf', gamma=0.001, C=Cs[i])\n",
    "    c.fit(x,y)\n",
    "    numsv[i] = c.support_vectors_.shape[0]\n",
    "\n",
    "pl.plot(np.log10(Cs), numsv, 'o-')\n",
    "numsv\n",
    "    "
   ]
  },
  {
   "cell_type": "code",
   "execution_count": 54,
   "metadata": {
    "collapsed": false
   },
   "outputs": [],
   "source": [
    "def showFit(c, x, y):\n",
    "    mins = x.min(axis=0)\n",
    "    maxs = x.max(axis=0)\n",
    "    mx, my = np.meshgrid(np.linspace(mins[0], maxs[0]), np.linspace(mins[1], maxs[1]))\n",
    "    z = c.decision_function(np.c_[mx.ravel(), my.ravel()])\n",
    "    pl.contour(mx, my, z.reshape(mx.shape), [-1, 0, 1])\n",
    "    \n",
    "    # plot data\n",
    "    pos = y == 1\n",
    "    neg = y == -1\n",
    "    pl.plot(x[pos,0], x[pos,1], 'r+')\n",
    "    pl.plot(x[neg, 0], x[neg, 1], 'b.')\n",
    "    pl.jet()\n",
    "    \n",
    "    # plot support vectors\n",
    "    pl.plot(c.support_vectors_[:,0], c.support_vectors_[:,1], 'ko', fillstyle='none')\n",
    "    pl.grid()"
   ]
  },
  {
   "cell_type": "code",
   "execution_count": 55,
   "metadata": {
    "collapsed": false
   },
   "outputs": [],
   "source": [
    "import sklearn.datasets as datasets"
   ]
  },
  {
   "cell_type": "code",
   "execution_count": 56,
   "metadata": {
    "collapsed": false
   },
   "outputs": [],
   "source": [
    "x, y = datasets.make_blobs(100, 2, 2); y = 2*y-1"
   ]
  },
  {
   "cell_type": "code",
   "execution_count": 66,
   "metadata": {
    "collapsed": false
   },
   "outputs": [
    {
     "data": {
      "image/png": "[encoded data removed]",
      "text/plain": [
       "<matplotlib.figure.Figure at 0x7fe0d3f4ba20>"
      ]
     },
     "metadata": {},
     "output_type": "display_data"
    }
   ],
   "source": [
    "c = svm.SVC(kernel='rbf', C=2, gamma = 0.1)\n",
    "c.fit(x,y)\n",
    "showFit(c, x, y)"
   ]
  },
  {
   "cell_type": "markdown",
   "metadata": {
    "collapsed": false
   },
   "source": [
    "__C is treated as a tuning parameter that is generally chosen via cross validation. C controls the bias variance tradeoff. When C is small we seek narrow margins that are rarely violated. This amounts to a classifier that highly fits the data, which ma have low bias but high variance. On the other hand when C is large, the margin is wider and we allow more violations to it; this amounts to fitting the data less hard and obtaining a classifier that is potentially more biased but may have less variance.__"
   ]
  },
  {
   "cell_type": "code",
   "execution_count": 58,
   "metadata": {
    "collapsed": false
   },
   "outputs": [
    {
     "data": {
      "text/plain": [
       "-2"
      ]
     },
     "execution_count": 58,
     "metadata": {},
     "output_type": "execute_result"
    }
   ],
   "source": [
    "~True"
   ]
  },
  {
   "cell_type": "code",
   "execution_count": 59,
   "metadata": {
    "collapsed": false
   },
   "outputs": [
    {
     "data": {
      "text/plain": [
       "-2"
      ]
     },
     "execution_count": 59,
     "metadata": {},
     "output_type": "execute_result"
    }
   ],
   "source": [
    "~True"
   ]
  },
  {
   "cell_type": "code",
   "execution_count": 60,
   "metadata": {
    "collapsed": false
   },
   "outputs": [
    {
     "data": {
      "text/plain": [
       "-1"
      ]
     },
     "execution_count": 60,
     "metadata": {},
     "output_type": "execute_result"
    }
   ],
   "source": [
    "~False"
   ]
  },
  {
   "cell_type": "code",
   "execution_count": 63,
   "metadata": {
    "collapsed": false
   },
   "outputs": [
    {
     "data": {
      "text/plain": [
       "0"
      ]
     },
     "execution_count": 63,
     "metadata": {},
     "output_type": "execute_result"
    }
   ],
   "source": [
    "~(~False or ~True)"
   ]
  },
  {
   "cell_type": "code",
   "execution_count": null,
   "metadata": {
    "collapsed": false
   },
   "outputs": [],
   "source": [
    "~4"
   ]
  },
  {
   "cell_type": "code",
   "execution_count": null,
   "metadata": {
    "collapsed": false
   },
   "outputs": [],
   "source": [
    "~0"
   ]
  },
  {
   "cell_type": "code",
   "execution_count": null,
   "metadata": {
    "collapsed": false
   },
   "outputs": [],
   "source": [
    "~-1"
   ]
  },
  {
   "cell_type": "code",
   "execution_count": null,
   "metadata": {
    "collapsed": false
   },
   "outputs": [],
   "source": [
    "True | False"
   ]
  },
  {
   "cell_type": "code",
   "execution_count": null,
   "metadata": {
    "collapsed": false
   },
   "outputs": [],
   "source": [
    "~1\n"
   ]
  },
  {
   "cell_type": "code",
   "execution_count": null,
   "metadata": {
    "collapsed": false
   },
   "outputs": [],
   "source": [
    "~2\n"
   ]
  },
  {
   "cell_type": "code",
   "execution_count": null,
   "metadata": {
    "collapsed": true
   },
   "outputs": [],
   "source": []
  }
 ],
 "metadata": {
  "anaconda-cloud": {},
  "kernelspec": {
   "display_name": "Python [default]",
   "language": "python",
   "name": "python3"
  },
  "language_info": {
   "codemirror_mode": {
    "name": "ipython",
    "version": 3
   },
   "file_extension": ".py",
   "mimetype": "text/x-python",
   "name": "python",
   "nbconvert_exporter": "python",
   "pygments_lexer": "ipython3",
   "version": "3.5.2"
  }
 },
 "nbformat": 4,
 "nbformat_minor": 0
}
